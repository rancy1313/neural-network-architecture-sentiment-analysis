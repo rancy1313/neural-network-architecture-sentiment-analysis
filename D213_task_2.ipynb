{
 "cells": [
  {
   "cell_type": "markdown",
   "id": "becf49d8-765e-4d09-b160-1f5056ac65d0",
   "metadata": {},
   "source": [
    "# NLM3 TASK 2: SENTIMENT ANALYSIS USING NEURAL NETWORKS\n",
    "\n",
    "Rancel Hernandez\n",
    "\n",
    "Feb 20, 2025\n",
    "\n",
    "### Introduction  \n",
    "Sentiment analysis allows businesses to classify their customers' feedback as positive or negative to help them assess their services and products.\n",
    "In this analysis, the UCI Sentiment Labeled Sentences Data Set is used, which contains text data reviews from three different domains: Amazon, Yelp, and IMDb.\n",
    "\n",
    "Research Question:\n",
    "Which neural network architecture, sequential or functional, more accurately and confidently predicts sentiment in review data to help organizations better understand user sentiment?\n",
    "\n",
    "Goals:\n",
    "- Compare two neural network architectures, functional and sequential, of similar complexity for sentiment prediction.\n",
    "- Optimize a dual-branch functional model with branches designed to capture opposing information.\n",
    "- Create a comparable basic sequential model.\n",
    "- Train both models on the same combined dataset: Amazon, IMDb, and Yelp reviews.\n",
    "- Evaluate and compare performance metrics between the two optimal models.\n",
    "- Gain insights into how model architecture influences sentiment classification performance.\n",
    "\n",
    "\n",
    "This analysis will provide insights into whether specialized neural network architectures can improve sentiment prediction performance and generalize across various review domains.\n"
   ]
  },
  {
   "cell_type": "markdown",
   "id": "3bb55270-a13e-4d86-a82b-c4ca08457bc3",
   "metadata": {},
   "source": [
    "## Imports"
   ]
  },
  {
   "cell_type": "code",
   "execution_count": 1,
   "id": "0079d803-db0b-4c8a-8d37-cce4cbc3319e",
   "metadata": {},
   "outputs": [
    {
     "name": "stderr",
     "output_type": "stream",
     "text": [
      "2025-03-09 20:41:17.932397: I tensorflow/core/platform/cpu_feature_guard.cc:210] This TensorFlow binary is optimized to use available CPU instructions in performance-critical operations.\n",
      "To enable the following instructions: AVX2 AVX512F AVX512_VNNI FMA, in other operations, rebuild TensorFlow with the appropriate compiler flags.\n"
     ]
    }
   ],
   "source": [
    "# load text data into DataFrames for data manipulation\n",
    "import pandas as pd\n",
    "\n",
    "# for relu inverse function\n",
    "import tensorflow as tf\n",
    "\n",
    "# for numpy arrays and to calculate statistical properties\n",
    "import numpy as np\n",
    "\n",
    "# use the en_core_web_md model from spaCy to tokenize sentences into word vectors \n",
    "import spacy  \n",
    "\n",
    "# pattern matching\n",
    "import re \n",
    "\n",
    "# pad the sequences that are lower than the input threshold to ensure a uniform input size\n",
    "from tensorflow.keras.preprocessing.sequence import pad_sequences\n",
    "\n",
    "# layers for building and structuring neural networks\n",
    "from tensorflow.keras.layers import Dense, Input, Concatenate, Flatten, Dropout, Bidirectional, LSTM\n",
    "\n",
    "# define the Sequential and Functional models\n",
    "from tensorflow.keras import Sequential\n",
    "from tensorflow.keras.models import Model\n",
    "\n",
    "# for adding regularization to reduce overfitting\n",
    "from tensorflow.keras.regularizers import l2\n",
    "\n",
    "# callback to stop the training if no improvement\n",
    "from tensorflow.keras.callbacks import EarlyStopping\n",
    "\n",
    "# split the data into training, test, and validation sets\n",
    "from sklearn.model_selection import train_test_split\n",
    "\n",
    "# scale the word embeddings\n",
    "from sklearn.preprocessing import StandardScaler \n",
    "\n",
    "# visualize and compare the distribution of the predictions\n",
    "# and confusion matrix of the predictions\n",
    "from sklearn.metrics import confusion_matrix\n",
    "import seaborn as sns\n",
    "import matplotlib.pyplot as plt\n",
    "\n",
    "# load the optimal training history saved on a json file\n",
    "import json"
   ]
  },
  {
   "cell_type": "code",
   "execution_count": 2,
   "id": "329dc0ae-f643-455d-b70c-d1d4bb7fb041",
   "metadata": {},
   "outputs": [],
   "source": [
    "# hide the outputs\n",
    "# install spaCy if not already installed\n",
    "!pip install spacy > /dev/null 2>&1\n",
    "\n",
    "# download en_core_web_md model\n",
    "!python -m spaCy download en_core_web_md > /dev/null 2>&1"
   ]
  },
  {
   "cell_type": "markdown",
   "id": "acba0afd-7a26-4e81-a125-991390428655",
   "metadata": {},
   "source": [
    "## Load and Eplore the Data\n",
    "- Load the text files into their corresponding DataFrame.\n",
    "- Explore the data by printing the shapes and the head of each DataFrame.\n",
    "- Add a domain identifcation column to each DataFrame and combine them into one.\n",
    "- Randomly sample `amazon_df` and `yelp_df` to proivide equal portions for each domain.\n",
    "- Combine the label and domain column to stratify based on domain and lables in the train test split."
   ]
  },
  {
   "cell_type": "code",
   "execution_count": 3,
   "id": "f9558586-2015-48e4-b2cf-99578693c3af",
   "metadata": {},
   "outputs": [],
   "source": [
    "file_path = '/Users/rancelhernandez/Downloads/sentiment_labelled_sentences/amazon_cells_labelled.txt'\n",
    "\n",
    "amazon_df = pd.read_csv(file_path, delimiter='\\t', header=None, names=['sentence', 'label'])\n",
    "\n",
    "file_path = '/Users/rancelhernandez/Downloads/sentiment_labelled_sentences/imdb_labelled.txt'\n",
    "\n",
    "imdb_df = pd.read_csv(file_path, delimiter='\\t', header=None, names=['sentence', 'label'])\n",
    "\n",
    "file_path = '/Users/rancelhernandez/Downloads/sentiment_labelled_sentences/yelp_labelled.txt'\n",
    "\n",
    "yelp_df = pd.read_csv(file_path, delimiter='\\t', header=None, names=['sentence', 'label'])"
   ]
  },
  {
   "cell_type": "code",
   "execution_count": 4,
   "id": "eaac48a4-fa68-4fc4-9053-cb87dc98a1f3",
   "metadata": {},
   "outputs": [
    {
     "data": {
      "text/plain": [
       "(1000, 2)"
      ]
     },
     "execution_count": 4,
     "metadata": {},
     "output_type": "execute_result"
    }
   ],
   "source": [
    "amazon_df.shape"
   ]
  },
  {
   "cell_type": "code",
   "execution_count": 5,
   "id": "a9b85750-e63c-4b45-9a33-e2405b77bba1",
   "metadata": {},
   "outputs": [
    {
     "data": {
      "text/plain": [
       "(748, 2)"
      ]
     },
     "execution_count": 5,
     "metadata": {},
     "output_type": "execute_result"
    }
   ],
   "source": [
    "imdb_df.shape"
   ]
  },
  {
   "cell_type": "code",
   "execution_count": 6,
   "id": "5ee92f15-8593-43d1-a6e1-6c3dea28c2b2",
   "metadata": {},
   "outputs": [
    {
     "data": {
      "text/plain": [
       "(1000, 2)"
      ]
     },
     "execution_count": 6,
     "metadata": {},
     "output_type": "execute_result"
    }
   ],
   "source": [
    "yelp_df.shape"
   ]
  },
  {
   "cell_type": "code",
   "execution_count": 7,
   "id": "c4ae533f-6642-4625-ad75-aa3139f5d9db",
   "metadata": {},
   "outputs": [
    {
     "data": {
      "text/html": [
       "<div>\n",
       "<style scoped>\n",
       "    .dataframe tbody tr th:only-of-type {\n",
       "        vertical-align: middle;\n",
       "    }\n",
       "\n",
       "    .dataframe tbody tr th {\n",
       "        vertical-align: top;\n",
       "    }\n",
       "\n",
       "    .dataframe thead th {\n",
       "        text-align: right;\n",
       "    }\n",
       "</style>\n",
       "<table border=\"1\" class=\"dataframe\">\n",
       "  <thead>\n",
       "    <tr style=\"text-align: right;\">\n",
       "      <th></th>\n",
       "      <th>sentence</th>\n",
       "      <th>label</th>\n",
       "    </tr>\n",
       "  </thead>\n",
       "  <tbody>\n",
       "    <tr>\n",
       "      <th>0</th>\n",
       "      <td>So there is no way for me to plug it in here i...</td>\n",
       "      <td>0</td>\n",
       "    </tr>\n",
       "    <tr>\n",
       "      <th>1</th>\n",
       "      <td>Good case, Excellent value.</td>\n",
       "      <td>1</td>\n",
       "    </tr>\n",
       "    <tr>\n",
       "      <th>2</th>\n",
       "      <td>Great for the jawbone.</td>\n",
       "      <td>1</td>\n",
       "    </tr>\n",
       "    <tr>\n",
       "      <th>3</th>\n",
       "      <td>Tied to charger for conversations lasting more...</td>\n",
       "      <td>0</td>\n",
       "    </tr>\n",
       "    <tr>\n",
       "      <th>4</th>\n",
       "      <td>The mic is great.</td>\n",
       "      <td>1</td>\n",
       "    </tr>\n",
       "  </tbody>\n",
       "</table>\n",
       "</div>"
      ],
      "text/plain": [
       "                                            sentence  label\n",
       "0  So there is no way for me to plug it in here i...      0\n",
       "1                        Good case, Excellent value.      1\n",
       "2                             Great for the jawbone.      1\n",
       "3  Tied to charger for conversations lasting more...      0\n",
       "4                                  The mic is great.      1"
      ]
     },
     "execution_count": 7,
     "metadata": {},
     "output_type": "execute_result"
    }
   ],
   "source": [
    "amazon_df.head()"
   ]
  },
  {
   "cell_type": "code",
   "execution_count": 8,
   "id": "56087f84-e1da-428f-a475-67b3c2f78f97",
   "metadata": {},
   "outputs": [
    {
     "data": {
      "text/html": [
       "<div>\n",
       "<style scoped>\n",
       "    .dataframe tbody tr th:only-of-type {\n",
       "        vertical-align: middle;\n",
       "    }\n",
       "\n",
       "    .dataframe tbody tr th {\n",
       "        vertical-align: top;\n",
       "    }\n",
       "\n",
       "    .dataframe thead th {\n",
       "        text-align: right;\n",
       "    }\n",
       "</style>\n",
       "<table border=\"1\" class=\"dataframe\">\n",
       "  <thead>\n",
       "    <tr style=\"text-align: right;\">\n",
       "      <th></th>\n",
       "      <th>sentence</th>\n",
       "      <th>label</th>\n",
       "    </tr>\n",
       "  </thead>\n",
       "  <tbody>\n",
       "    <tr>\n",
       "      <th>0</th>\n",
       "      <td>A very, very, very slow-moving, aimless movie ...</td>\n",
       "      <td>0</td>\n",
       "    </tr>\n",
       "    <tr>\n",
       "      <th>1</th>\n",
       "      <td>Not sure who was more lost - the flat characte...</td>\n",
       "      <td>0</td>\n",
       "    </tr>\n",
       "    <tr>\n",
       "      <th>2</th>\n",
       "      <td>Attempting artiness with black &amp; white and cle...</td>\n",
       "      <td>0</td>\n",
       "    </tr>\n",
       "    <tr>\n",
       "      <th>3</th>\n",
       "      <td>Very little music or anything to speak of.</td>\n",
       "      <td>0</td>\n",
       "    </tr>\n",
       "    <tr>\n",
       "      <th>4</th>\n",
       "      <td>The best scene in the movie was when Gerardo i...</td>\n",
       "      <td>1</td>\n",
       "    </tr>\n",
       "  </tbody>\n",
       "</table>\n",
       "</div>"
      ],
      "text/plain": [
       "                                            sentence  label\n",
       "0  A very, very, very slow-moving, aimless movie ...      0\n",
       "1  Not sure who was more lost - the flat characte...      0\n",
       "2  Attempting artiness with black & white and cle...      0\n",
       "3       Very little music or anything to speak of.        0\n",
       "4  The best scene in the movie was when Gerardo i...      1"
      ]
     },
     "execution_count": 8,
     "metadata": {},
     "output_type": "execute_result"
    }
   ],
   "source": [
    "imdb_df.head()"
   ]
  },
  {
   "cell_type": "code",
   "execution_count": 9,
   "id": "6c5c8a21-280b-46c4-a2f6-a752ddb2fc57",
   "metadata": {},
   "outputs": [
    {
     "data": {
      "text/html": [
       "<div>\n",
       "<style scoped>\n",
       "    .dataframe tbody tr th:only-of-type {\n",
       "        vertical-align: middle;\n",
       "    }\n",
       "\n",
       "    .dataframe tbody tr th {\n",
       "        vertical-align: top;\n",
       "    }\n",
       "\n",
       "    .dataframe thead th {\n",
       "        text-align: right;\n",
       "    }\n",
       "</style>\n",
       "<table border=\"1\" class=\"dataframe\">\n",
       "  <thead>\n",
       "    <tr style=\"text-align: right;\">\n",
       "      <th></th>\n",
       "      <th>sentence</th>\n",
       "      <th>label</th>\n",
       "    </tr>\n",
       "  </thead>\n",
       "  <tbody>\n",
       "    <tr>\n",
       "      <th>0</th>\n",
       "      <td>Wow... Loved this place.</td>\n",
       "      <td>1</td>\n",
       "    </tr>\n",
       "    <tr>\n",
       "      <th>1</th>\n",
       "      <td>Crust is not good.</td>\n",
       "      <td>0</td>\n",
       "    </tr>\n",
       "    <tr>\n",
       "      <th>2</th>\n",
       "      <td>Not tasty and the texture was just nasty.</td>\n",
       "      <td>0</td>\n",
       "    </tr>\n",
       "    <tr>\n",
       "      <th>3</th>\n",
       "      <td>Stopped by during the late May bank holiday of...</td>\n",
       "      <td>1</td>\n",
       "    </tr>\n",
       "    <tr>\n",
       "      <th>4</th>\n",
       "      <td>The selection on the menu was great and so wer...</td>\n",
       "      <td>1</td>\n",
       "    </tr>\n",
       "  </tbody>\n",
       "</table>\n",
       "</div>"
      ],
      "text/plain": [
       "                                            sentence  label\n",
       "0                           Wow... Loved this place.      1\n",
       "1                                 Crust is not good.      0\n",
       "2          Not tasty and the texture was just nasty.      0\n",
       "3  Stopped by during the late May bank holiday of...      1\n",
       "4  The selection on the menu was great and so wer...      1"
      ]
     },
     "execution_count": 9,
     "metadata": {},
     "output_type": "execute_result"
    }
   ],
   "source": [
    "yelp_df.head()"
   ]
  },
  {
   "cell_type": "code",
   "execution_count": 10,
   "id": "4fcf8e40-a2ed-4d4c-9fa2-f9b465525dac",
   "metadata": {},
   "outputs": [
    {
     "name": "stdout",
     "output_type": "stream",
     "text": [
      "Amazon: label\n",
      "1    385\n",
      "0    363\n",
      "Name: count, dtype: int64\n",
      "IMDb: label\n",
      "1    386\n",
      "0    362\n",
      "Name: count, dtype: int64\n",
      "Yelp: label\n",
      "0    382\n",
      "1    366\n",
      "Name: count, dtype: int64\n"
     ]
    }
   ],
   "source": [
    "# the imdb_df had 748 observations, while the other two had 1000.\n",
    "# Therefore, amazon_df and yelp_df will be shortened to the same length\n",
    "# with random sampling to ensure there are equal proportions for all \n",
    "# the domains.\n",
    "amazon_df = amazon_df.sample(n=748, random_state=42)\n",
    "yelp_df = yelp_df.sample(n=748, random_state=42)\n",
    "\n",
    "# print the distribution of the labels\n",
    "print(\"Amazon:\", amazon_df.label.value_counts())\n",
    "print(\"IMDb:\", imdb_df.label.value_counts())\n",
    "print(\"Yelp:\", yelp_df.label.value_counts())"
   ]
  },
  {
   "cell_type": "code",
   "execution_count": 11,
   "id": "9fb95a71-183d-4a32-bf9a-d117ea1a10f7",
   "metadata": {},
   "outputs": [],
   "source": [
    "# add the domain identification column\n",
    "amazon_df[\"domain\"] = \"amazon\"\n",
    "imdb_df[\"domain\"] = \"imdb\"\n",
    "yelp_df[\"domain\"] = \"yelp\"\n",
    "\n",
    "# combine all the DataFrames into one\n",
    "combined_df = pd.concat([amazon_df, yelp_df, imdb_df], ignore_index=True)\n",
    "\n",
    "# combine domain and label into one column for stratification in train test split\n",
    "combined_df['stratify_group'] = combined_df['domain'] + \"_\" + combined_df['label'].astype(str)"
   ]
  },
  {
   "cell_type": "markdown",
   "id": "64ca3f42-6c1e-424e-90f1-d50dc4337dae",
   "metadata": {},
   "source": [
    "## Prepare the Data for the Analysis\n",
    "- Identify and remove unusual characters.\n",
    "- Transform sentences into sequences of word embeddings.\n",
    "- Visualize the distribution of the sequence lengths using histograms.  \n",
    "- Calculate and print the statistcal properties of the sequence lengths.\n",
    "- Select the optimal max word embedding length.\n",
    "- Pad and truncate the sequences to ensure unifrom inputs for the model.\n",
    "- Visualize the distribution of the word vector values, excluding padded vectors.\n",
    "- Standardize the word vectors.\n",
    "- Split the data into the training, validation, and test sets"
   ]
  },
  {
   "cell_type": "code",
   "execution_count": 12,
   "id": "0484ea0b-d3fe-4372-856a-feaa5212aec3",
   "metadata": {},
   "outputs": [],
   "source": [
    "# compile the pattern for english chars\n",
    "non_english_pattern = re.compile(r\"[^a-z0-9\\s]\") \n",
    "\n",
    "# declare the set of punctuation not really considerd english chars\n",
    "punctuation = ('~', '@', '?', ')', '<', '\"', '+', ';', '.', '|', \n",
    "               '\\\\', \"'\", '(', '*', '!', '=', '>', '}', '/', '{', \n",
    "               '#', '_', '&', '$', '%', '`', '[', ':', ',', '^', '-', ']')"
   ]
  },
  {
   "cell_type": "code",
   "execution_count": 13,
   "id": "fe1e7031-6d89-406b-9783-49a62a3be03b",
   "metadata": {},
   "outputs": [],
   "source": [
    "# B2 Tokenization Cell 13\n",
    "\n",
    "# store all the sentences in a list\n",
    "texts = combined_df[\"sentence\"].to_list()\n",
    "\n",
    "# load the spaCy model used to generate the word vectors\n",
    "nlp = spacy.load('en_core_web_md')\n",
    "\n",
    "# for words not in the spaCy model vocab, they will be padded with zeros\n",
    "oov_vector = np.zeros((300,))  \n",
    "\n",
    "# keep track of the proportion of words in and out of the vocab\n",
    "in_vocab_count = 0\n",
    "out_of_vocab_count = 0\n",
    "\n",
    "# will contain all the sequences of word vectors\n",
    "vectorized_sequences = []\n",
    "\n",
    "# count all chars that are not english or punctuation\n",
    "non_english_count = 0\n",
    "\n",
    "# the list of unique unusual chars\n",
    "unknown_chars = []\n",
    "\n",
    "# will store the list of unique words in the dataset\n",
    "vocab = []\n",
    "\n",
    "# for each sentence, create a doc and vectorize each word and store\n",
    "# the sequence of word vectors in vectorized_sequences\n",
    "for sentence in texts:\n",
    "\n",
    "    # using the pattern get all non english chars\n",
    "    non_english = non_english_pattern.findall(sentence.lower())\n",
    "\n",
    "    # for each char, check if its punctuation\n",
    "    for char in non_english:\n",
    "\n",
    "        # if it is not punctuation, then it is an unusual char\n",
    "        if (char not in punctuation):\n",
    "\n",
    "            # increment the total unusual chars \n",
    "            non_english_count += len(non_english)\n",
    "\n",
    "            # replce the char with empty string to remove it\n",
    "            sentence = sentence.replace(char, '')\n",
    "\n",
    "            # check if it is in the current unknown_chars to collect all unique unknown chars\n",
    "            if (char not in unknown_chars):\n",
    "                unknown_chars.append(char)\n",
    "    \n",
    "    # create a document object from the sentence\n",
    "    # to create a token object for each word\n",
    "    doc = nlp(sentence)\n",
    "    \n",
    "    # create an 2D-array with (number of words in a sentence, 300)\n",
    "    # 300 is the dimensionality of the GloVe word embeddings\n",
    "    token_vectors = np.zeros((len(doc), 300))\n",
    "\n",
    "    # iterate through all the words in the sentence\n",
    "    for index, token in enumerate(doc):\n",
    "\n",
    "        # check if the current word is in the vocab, if not add it\n",
    "        if token.text not in vocab:\n",
    "            vocab.append(token.text)\n",
    "        \n",
    "        # check if it has an existing embedding in the spaCy Model\n",
    "        if token.has_vector:\n",
    "            \n",
    "            # increment the count of words in the vocab\n",
    "            in_vocab_count += 1\n",
    "\n",
    "            # add the current word vector at the correct index\n",
    "            token_vectors[index] = token.vector\n",
    "        else:\n",
    "            # the word is out of the model's vocb\n",
    "\n",
    "            # increment the count of words not in the vocab\n",
    "            out_of_vocab_count += 1\n",
    "\n",
    "            # pad the current index with a empty array\n",
    "            token_vectors[index] = oov_vector\n",
    "\n",
    "    # add the sequnce of word vectors to vectorized_sequences\n",
    "    # a list of 2D numpy arrays, with each representing a sentence.\n",
    "    vectorized_sequences.append(token_vectors)"
   ]
  },
  {
   "cell_type": "code",
   "execution_count": 14,
   "id": "35f98d25-413b-426c-857a-ddf7b4d81669",
   "metadata": {},
   "outputs": [
    {
     "name": "stdout",
     "output_type": "stream",
     "text": [
      "Unusual Chars: ['ê', 'é', '\\x96', 'å', '\\x97']\n",
      "Count of unusual chars: 349\n"
     ]
    }
   ],
   "source": [
    "print(\"Unusual Chars:\", unknown_chars)\n",
    "print(\"Count of unusual chars:\", non_english_count)"
   ]
  },
  {
   "cell_type": "code",
   "execution_count": 15,
   "id": "ad415ff8-d938-47d1-8636-d01a4347fd5d",
   "metadata": {},
   "outputs": [
    {
     "name": "stdout",
     "output_type": "stream",
     "text": [
      "Count of words with embeddings (in vocab) 35557\n",
      "Count of words without embeddings (not in vocab): 1431\n",
      "Count of unique words in the dataset: 5472\n"
     ]
    }
   ],
   "source": [
    "print(\"Count of words with embeddings (in vocab)\", in_vocab_count)\n",
    "print(\"Count of words without embeddings (not in vocab):\", out_of_vocab_count)\n",
    "print(\"Count of unique words in the dataset:\", len(vocab))"
   ]
  },
  {
   "cell_type": "code",
   "execution_count": 16,
   "id": "ded947e7-2743-4a33-bfe9-68ec6b4c9a1a",
   "metadata": {},
   "outputs": [
    {
     "name": "stdout",
     "output_type": "stream",
     "text": [
      "Max length: 1842\n",
      "Average length: 16.48306595365419\n",
      "STD: 52.025593405645594\n",
      "95th percentile length: 31.0\n"
     ]
    }
   ],
   "source": [
    "# calculate sequence lengths\n",
    "sequence_lengths = [len(seq) for seq in vectorized_sequences]\n",
    "\n",
    "# calculate the statistical properties of the sequence lengths\n",
    "print(\"Max length:\", np.max(sequence_lengths))\n",
    "print(\"Average length:\", np.mean(sequence_lengths))\n",
    "print(\"STD:\", np.std(sequence_lengths))\n",
    "print(\"95th percentile length:\", np.percentile(sequence_lengths, 95))"
   ]
  },
  {
   "cell_type": "code",
   "execution_count": 17,
   "id": "a7c1bec4-44dc-4af3-a27a-82edc81fad0c",
   "metadata": {},
   "outputs": [
    {
     "name": "stdout",
     "output_type": "stream",
     "text": [
      "Number of sequences > 100 words: 5\n",
      "Longest sequence length: 1842\n",
      "Shortest Longest sequence length: 262\n"
     ]
    }
   ],
   "source": [
    "# check for outliers\n",
    "long_sequences = [l for l in sequence_lengths if l > 100]\n",
    "\n",
    "print(\"Number of sequences > 100 words:\", len(long_sequences))\n",
    "print(\"Longest sequence length:\", max(sequence_lengths))\n",
    "print(\"Shortest Longest sequence length:\", min(long_sequences))"
   ]
  },
  {
   "cell_type": "code",
   "execution_count": 18,
   "id": "bb752872-7ef3-4fa4-af39-7b2e1a53c348",
   "metadata": {},
   "outputs": [],
   "source": [
    "# truncate the sequences over a standard deviation of the sequence lengths (avg ~ 16 + 52)\n",
    "vectorized_sequences = [seq[:68] for seq in vectorized_sequences]\n",
    "\n",
    "# recalculate the sequence lengths\n",
    "sequence_lengths = [len(seq) for seq in vectorized_sequences]"
   ]
  },
  {
   "cell_type": "code",
   "execution_count": 19,
   "id": "8902ef2b-19aa-4240-ba7d-0dbb611df18a",
   "metadata": {
    "scrolled": true
   },
   "outputs": [
    {
     "data": {
      "image/png": "[encoded data removed]",
      "text/plain": [
       "<Figure size 800x600 with 1 Axes>"
      ]
     },
     "metadata": {},
     "output_type": "display_data"
    }
   ],
   "source": [
    "# plot distribution of the sequence lengths\n",
    "plt.figure(figsize=(8, 6))\n",
    "plt.hist(sequence_lengths, bins=50, color='skyblue', edgecolor='black')\n",
    "plt.title('Distribution of Sentence Lengths')\n",
    "plt.xlabel('Number of Words')\n",
    "plt.ylabel('Frequency')\n",
    "plt.show()"
   ]
  },
  {
   "cell_type": "code",
   "execution_count": 20,
   "id": "7a02961a-98a5-429d-b88b-4478e26979a7",
   "metadata": {},
   "outputs": [
    {
     "name": "stdout",
     "output_type": "stream",
     "text": [
      "Max length: 68\n",
      "Average length: 14.527629233511586\n",
      "STD: 9.343258195196384\n",
      "95th percentile length: 31.0\n"
     ]
    }
   ],
   "source": [
    "# recalculate the statistical properties of the sequence lengths\n",
    "print(\"Max length:\", np.max(sequence_lengths))\n",
    "print(\"Average length:\", np.mean(sequence_lengths))\n",
    "print(\"STD:\", np.std(sequence_lengths))\n",
    "print(\"95th percentile length:\", np.percentile(sequence_lengths, 95))"
   ]
  },
  {
   "cell_type": "code",
   "execution_count": 21,
   "id": "ae594c87-5dfc-4de6-8b9b-3822cd7208ee",
   "metadata": {},
   "outputs": [
    {
     "name": "stdout",
     "output_type": "stream",
     "text": [
      "Pre-padded vector[2] example: 7\n",
      "Same padded vector[2] example: 31\n"
     ]
    }
   ],
   "source": [
    "# choose maximum sequence length\n",
    "max_length = 31  \n",
    "\n",
    "# pad the sequences\n",
    "padded_vectorized_sequences = pad_sequences(\n",
    "    vectorized_sequences, \n",
    "    maxlen=max_length, \n",
    "    padding='post', \n",
    "    dtype='float32'\n",
    ")\n",
    "\n",
    "#print(\"padded_vectorized_sequences shape:\", padded_vectorized_sequences.shape)\n",
    "\n",
    "# print an example before and post padding\n",
    "print(\"Pre-padded vector[2] example:\", len(vectorized_sequences[2]))\n",
    "print(\"Same padded vector[2] example:\", len(padded_vectorized_sequences[2]))"
   ]
  },
  {
   "cell_type": "code",
   "execution_count": 22,
   "id": "b81767c2-533c-40d0-a727-43874a619566",
   "metadata": {},
   "outputs": [
    {
     "data": {
      "image/png": "[encoded data removed]",
      "text/plain": [
       "<Figure size 800x600 with 1 Axes>"
      ]
     },
     "metadata": {},
     "output_type": "display_data"
    }
   ],
   "source": [
    "# exclude zero vectors (padding)\n",
    "\n",
    "# flatten the vectors (2244, 31, 300) > (69564, 300)\n",
    "flattened_vectors = padded_vectorized_sequences.reshape(-1, padded_vectorized_sequences.shape[-1])\n",
    "\n",
    "# create a mask to filter out padded vectors \n",
    "# rows where all values sum to 0\n",
    "mask = np.sum(flattened_vectors, axis=1) != 0\n",
    "\n",
    "# apply the mask to retian non-padded vectors\n",
    "non_zero_vectors = flattened_vectors[mask]\n",
    "\n",
    "# plot distribution of non_zero_vectors\n",
    "plt.figure(figsize=(8, 6))\n",
    "plt.hist(non_zero_vectors.flatten(), bins=50, color='blue', alpha=0.7)\n",
    "plt.title(\"Distribution of Word Vector Values (Excluding Padding)\")\n",
    "plt.xlabel(\"Vector Values\")\n",
    "plt.ylabel(\"Frequency\")\n",
    "plt.show()"
   ]
  },
  {
   "cell_type": "code",
   "execution_count": 23,
   "id": "4bff62ec-7406-4971-a66c-c1a500c61e3e",
   "metadata": {},
   "outputs": [
    {
     "name": "stdout",
     "output_type": "stream",
     "text": [
      "Mean Value: -0.009188037365674973, Standard Deviation: 0.35151249170303345\n"
     ]
    }
   ],
   "source": [
    "# calculate the statistical properties of the non_zero_vectors\n",
    "mean_value = np.mean(non_zero_vectors)\n",
    "std_value = np.std(non_zero_vectors)\n",
    "print(f\"Mean Value: {mean_value}, Standard Deviation: {std_value}\")"
   ]
  },
  {
   "cell_type": "code",
   "execution_count": 24,
   "id": "7d6aa0cb-b5ea-414f-b9da-b6adae9b3b51",
   "metadata": {},
   "outputs": [],
   "source": [
    "# create the labels and stratification group\n",
    "labels = combined_df['label']\n",
    "\n",
    "# stratify_group WAS GONNA BE USED TO COMPARE GENERALIZATION OF DOMAINS BETWEEN MODELS\n",
    "# stratifying by both labels and domain ensures equal distributions between the sources and possible outcomes\n",
    "stratify_group = combined_df['stratify_group']\n",
    "\n",
    "# split the data in 70% training set and 30% temp set\n",
    "X_train, X_temp, y_train, y_temp, strat_train, strat_temp = train_test_split(\n",
    "    padded_vectorized_sequences, \n",
    "    labels,\n",
    "    stratify_group,\n",
    "    test_size=0.3, \n",
    "    stratify=stratify_group,\n",
    "    random_state=42\n",
    ")\n",
    "\n",
    "# use the 30% temp set to further split the into the 15% test and validations sets\n",
    "X_test, X_val, y_test, y_val, strat_test, strat_val = train_test_split(\n",
    "    X_temp,\n",
    "    y_temp,\n",
    "    strat_temp,\n",
    "    test_size=0.5,\n",
    "    stratify=strat_temp,\n",
    "    random_state=42\n",
    ")"
   ]
  },
  {
   "cell_type": "code",
   "execution_count": 25,
   "id": "e2bcc841-5210-4be1-a6bb-0f526a63c2e2",
   "metadata": {},
   "outputs": [],
   "source": [
    "# flatten X_train from 3D arr > 2D arr\n",
    "X_train_flattened = X_train.reshape(-1, X_train.shape[2])\n",
    "\n",
    "# scale the data\n",
    "scaler = StandardScaler()\n",
    "\n",
    "# fit and transform the train set\n",
    "X_train_scaled_flattened = scaler.fit_transform(X_train_flattened)\n",
    "\n",
    "# reshape it back to the original shape \n",
    "X_train_scaled = X_train_scaled_flattened.reshape(X_train.shape)\n",
    "\n",
    "# apply same process to X_test and X_val\n",
    "X_test_flattened = X_test.reshape(-1, X_train.shape[2])\n",
    "X_test_scaled_flattened = scaler.transform(X_test_flattened)\n",
    "X_test_scaled = X_test_scaled_flattened.reshape(X_test.shape)\n",
    "\n",
    "X_val_flattened = X_val.reshape(-1, X_train.shape[2])\n",
    "X_val_scaled_flattened = scaler.transform(X_val_flattened)\n",
    "X_val_scaled = X_val_scaled_flattened.reshape(X_val.shape)"
   ]
  },
  {
   "cell_type": "markdown",
   "id": "3d8c5bb1-beeb-4477-bcc4-72488da4fbcf",
   "metadata": {},
   "source": [
    "## Build the Models\n",
    "- Define the inverse ReLu function.\n",
    "- Create the Functional and Sequential models.\n",
    "- Train both models."
   ]
  },
  {
   "cell_type": "code",
   "execution_count": 26,
   "id": "8268f488-46d7-4da6-bc62-92b064463a04",
   "metadata": {},
   "outputs": [],
   "source": [
    "# define a custom activation function\n",
    "# will be the inverse relu so..\n",
    "# x if x <= 0\n",
    "# 0 if x > \n",
    "def inverse_relu(x):\n",
    "    return tf.where(x <= 0, x, 0)\n",
    "\n",
    "\n",
    "# set for more consistent training\n",
    "tf.random.set_seed(42)\n",
    "tf.config.experimental.enable_op_determinism()"
   ]
  },
  {
   "cell_type": "code",
   "execution_count": 27,
   "id": "79e7dbb6-1642-4ca3-bbe8-970643aa232c",
   "metadata": {},
   "outputs": [],
   "source": [
    "# create the input layer for the model\n",
    "input_layer = Input(shape=(X_train_scaled.shape[1], X_train.shape[2]))\n",
    "\n",
    "# add a bidirectional LSTM before flattening to capture patterns in forward and backward directions\n",
    "lstm_layer = Bidirectional(LSTM(30, return_sequences=True, dropout=0.4,\n",
    "                                recurrent_dropout=0.4))(input_layer)\n",
    "\n",
    "# flatten the LSTM output to prepare for dense layers\n",
    "flattened = Flatten()(lstm_layer)\n",
    "\n",
    "# branch 1: \n",
    "m1_layer1 = Dense(12, activation='relu', kernel_regularizer=l2(0.05))(flattened)\n",
    "m1_layer1 = Dropout(0.4)(m1_layer1)\n",
    "\n",
    "m1_layer2 = Dense(8, activation='tanh', kernel_regularizer=l2(0.05))(m1_layer1)\n",
    "m1_layer2 = Dropout(0.3)(m1_layer2)\n",
    "\n",
    "m1_layer3 = Dense(8, activation='relu', kernel_regularizer=l2(0.05))(m1_layer2)\n",
    "m1_layer3 = Dropout(0.3)(m1_layer3)\n",
    "\n",
    "# branch 2: \n",
    "m2_layer1 = Dense(12, activation=inverse_relu, kernel_regularizer=l2(0.05))(flattened)\n",
    "m2_layer1 = Dropout(0.4)(m2_layer1)\n",
    "\n",
    "m2_layer2 = Dense(8, activation='tanh', kernel_regularizer=l2(0.05))(m2_layer1)\n",
    "m2_layer2 = Dropout(0.3)(m2_layer2)\n",
    "\n",
    "m2_layer3 = Dense(8, activation=inverse_relu, kernel_regularizer=l2(0.05))(m2_layer2)\n",
    "m2_layer3 = Dropout(0.3)(m2_layer3)\n",
    "\n",
    "# combine the branches\n",
    "combined = Concatenate()([m1_layer3, m2_layer3])\n",
    "\n",
    "# add a shared layer before the output\n",
    "shared_layer1 = Dense(10, activation='tanh', kernel_regularizer=l2(0.05))(combined)\n",
    "shared_layer1 = Dropout(0.3)(shared_layer1)\n",
    "\n",
    "# output layer with sigmoid activation for binary classification\n",
    "output_layer = Dense(1, activation='sigmoid')(shared_layer1)\n",
    "\n",
    "# define the functional model \n",
    "functional_model = Model(inputs=input_layer, outputs=output_layer)\n",
    "\n",
    "# compile the model using adam optimizer, binary cross-entropy loss, and accuracy, recall, and precision as metrics\n",
    "functional_model.compile(optimizer='adam', \n",
    "                         loss='binary_crossentropy', \n",
    "                         metrics=['accuracy'])\n",
    "\n",
    "# stop after 5 epochs with no progress\n",
    "early_stopping_monitor = EarlyStopping(patience=5)"
   ]
  },
  {
   "cell_type": "code",
   "execution_count": 28,
   "id": "3c1b1937-503a-4adb-9c74-2910925e6408",
   "metadata": {},
   "outputs": [
    {
     "name": "stdout",
     "output_type": "stream",
     "text": [
      "Epoch 1/30\n",
      "\u001b[1m35/35\u001b[0m \u001b[32m━━━━━━━━━━━━━━━━━━━━\u001b[0m\u001b[37m\u001b[0m \u001b[1m7s\u001b[0m 50ms/step - accuracy: 0.5214 - loss: 4.9105 - val_accuracy: 0.5393 - val_loss: 3.4588\n",
      "Epoch 2/30\n",
      "\u001b[1m35/35\u001b[0m \u001b[32m━━━━━━━━━━━━━━━━━━━━\u001b[0m\u001b[37m\u001b[0m \u001b[1m1s\u001b[0m 32ms/step - accuracy: 0.5233 - loss: 3.1916 - val_accuracy: 0.5372 - val_loss: 2.5754\n",
      "Epoch 3/30\n",
      "\u001b[1m35/35\u001b[0m \u001b[32m━━━━━━━━━━━━━━━━━━━━\u001b[0m\u001b[37m\u001b[0m \u001b[1m1s\u001b[0m 31ms/step - accuracy: 0.5434 - loss: 2.4483 - val_accuracy: 0.5966 - val_loss: 2.1398\n",
      "Epoch 4/30\n",
      "\u001b[1m35/35\u001b[0m \u001b[32m━━━━━━━━━━━━━━━━━━━━\u001b[0m\u001b[37m\u001b[0m \u001b[1m1s\u001b[0m 31ms/step - accuracy: 0.5591 - loss: 2.0691 - val_accuracy: 0.5945 - val_loss: 1.8603\n",
      "Epoch 5/30\n",
      "\u001b[1m35/35\u001b[0m \u001b[32m━━━━━━━━━━━━━━━━━━━━\u001b[0m\u001b[37m\u001b[0m \u001b[1m1s\u001b[0m 32ms/step - accuracy: 0.5741 - loss: 1.8068 - val_accuracy: 0.6178 - val_loss: 1.6465\n",
      "Epoch 6/30\n",
      "\u001b[1m35/35\u001b[0m \u001b[32m━━━━━━━━━━━━━━━━━━━━\u001b[0m\u001b[37m\u001b[0m \u001b[1m1s\u001b[0m 31ms/step - accuracy: 0.5889 - loss: 1.6018 - val_accuracy: 0.6327 - val_loss: 1.4682\n",
      "Epoch 7/30\n",
      "\u001b[1m35/35\u001b[0m \u001b[32m━━━━━━━━━━━━━━━━━━━━\u001b[0m\u001b[37m\u001b[0m \u001b[1m1s\u001b[0m 31ms/step - accuracy: 0.5894 - loss: 1.4341 - val_accuracy: 0.6285 - val_loss: 1.3240\n",
      "Epoch 8/30\n",
      "\u001b[1m35/35\u001b[0m \u001b[32m━━━━━━━━━━━━━━━━━━━━\u001b[0m\u001b[37m\u001b[0m \u001b[1m1s\u001b[0m 32ms/step - accuracy: 0.6038 - loss: 1.2943 - val_accuracy: 0.6391 - val_loss: 1.2052\n",
      "Epoch 9/30\n",
      "\u001b[1m35/35\u001b[0m \u001b[32m━━━━━━━━━━━━━━━━━━━━\u001b[0m\u001b[37m\u001b[0m \u001b[1m1s\u001b[0m 32ms/step - accuracy: 0.6181 - loss: 1.1832 - val_accuracy: 0.6433 - val_loss: 1.1072\n",
      "Epoch 10/30\n",
      "\u001b[1m35/35\u001b[0m \u001b[32m━━━━━━━━━━━━━━━━━━━━\u001b[0m\u001b[37m\u001b[0m \u001b[1m1s\u001b[0m 32ms/step - accuracy: 0.6203 - loss: 1.0894 - val_accuracy: 0.6497 - val_loss: 1.0261\n",
      "Epoch 11/30\n",
      "\u001b[1m35/35\u001b[0m \u001b[32m━━━━━━━━━━━━━━━━━━━━\u001b[0m\u001b[37m\u001b[0m \u001b[1m1s\u001b[0m 33ms/step - accuracy: 0.6326 - loss: 1.0092 - val_accuracy: 0.6688 - val_loss: 0.9605\n",
      "Epoch 12/30\n",
      "\u001b[1m35/35\u001b[0m \u001b[32m━━━━━━━━━━━━━━━━━━━━\u001b[0m\u001b[37m\u001b[0m \u001b[1m1s\u001b[0m 32ms/step - accuracy: 0.6367 - loss: 0.9465 - val_accuracy: 0.6667 - val_loss: 0.9078\n",
      "Epoch 13/30\n",
      "\u001b[1m35/35\u001b[0m \u001b[32m━━━━━━━━━━━━━━━━━━━━\u001b[0m\u001b[37m\u001b[0m \u001b[1m1s\u001b[0m 32ms/step - accuracy: 0.6357 - loss: 0.8945 - val_accuracy: 0.6497 - val_loss: 0.8630\n",
      "Epoch 14/30\n",
      "\u001b[1m35/35\u001b[0m \u001b[32m━━━━━━━━━━━━━━━━━━━━\u001b[0m\u001b[37m\u001b[0m \u001b[1m1s\u001b[0m 32ms/step - accuracy: 0.6561 - loss: 0.8550 - val_accuracy: 0.6582 - val_loss: 0.8277\n",
      "Epoch 15/30\n",
      "\u001b[1m35/35\u001b[0m \u001b[32m━━━━━━━━━━━━━━━━━━━━\u001b[0m\u001b[37m\u001b[0m \u001b[1m1s\u001b[0m 32ms/step - accuracy: 0.6249 - loss: 0.8248 - val_accuracy: 0.6858 - val_loss: 0.8007\n",
      "Epoch 16/30\n",
      "\u001b[1m35/35\u001b[0m \u001b[32m━━━━━━━━━━━━━━━━━━━━\u001b[0m\u001b[37m\u001b[0m \u001b[1m1s\u001b[0m 31ms/step - accuracy: 0.6841 - loss: 0.7925 - val_accuracy: 0.6815 - val_loss: 0.7761\n",
      "Epoch 17/30\n",
      "\u001b[1m35/35\u001b[0m \u001b[32m━━━━━━━━━━━━━━━━━━━━\u001b[0m\u001b[37m\u001b[0m \u001b[1m1s\u001b[0m 32ms/step - accuracy: 0.6420 - loss: 0.7743 - val_accuracy: 0.6900 - val_loss: 0.7578\n",
      "Epoch 18/30\n",
      "\u001b[1m35/35\u001b[0m \u001b[32m━━━━━━━━━━━━━━━━━━━━\u001b[0m\u001b[37m\u001b[0m \u001b[1m1s\u001b[0m 32ms/step - accuracy: 0.6848 - loss: 0.7466 - val_accuracy: 0.6773 - val_loss: 0.7390\n",
      "Epoch 19/30\n",
      "\u001b[1m35/35\u001b[0m \u001b[32m━━━━━━━━━━━━━━━━━━━━\u001b[0m\u001b[37m\u001b[0m \u001b[1m1s\u001b[0m 33ms/step - accuracy: 0.7030 - loss: 0.7292 - val_accuracy: 0.6815 - val_loss: 0.7260\n",
      "Epoch 20/30\n",
      "\u001b[1m35/35\u001b[0m \u001b[32m━━━━━━━━━━━━━━━━━━━━\u001b[0m\u001b[37m\u001b[0m \u001b[1m1s\u001b[0m 32ms/step - accuracy: 0.6961 - loss: 0.7203 - val_accuracy: 0.6645 - val_loss: 0.7240\n",
      "Epoch 21/30\n",
      "\u001b[1m35/35\u001b[0m \u001b[32m━━━━━━━━━━━━━━━━━━━━\u001b[0m\u001b[37m\u001b[0m \u001b[1m1s\u001b[0m 33ms/step - accuracy: 0.7046 - loss: 0.6987 - val_accuracy: 0.6858 - val_loss: 0.7077\n",
      "Epoch 22/30\n",
      "\u001b[1m35/35\u001b[0m \u001b[32m━━━━━━━━━━━━━━━━━━━━\u001b[0m\u001b[37m\u001b[0m \u001b[1m1s\u001b[0m 32ms/step - accuracy: 0.7156 - loss: 0.6982 - val_accuracy: 0.7049 - val_loss: 0.7034\n",
      "Epoch 23/30\n",
      "\u001b[1m35/35\u001b[0m \u001b[32m━━━━━━━━━━━━━━━━━━━━\u001b[0m\u001b[37m\u001b[0m \u001b[1m1s\u001b[0m 32ms/step - accuracy: 0.7261 - loss: 0.6792 - val_accuracy: 0.7006 - val_loss: 0.6971\n",
      "Epoch 24/30\n",
      "\u001b[1m35/35\u001b[0m \u001b[32m━━━━━━━━━━━━━━━━━━━━\u001b[0m\u001b[37m\u001b[0m \u001b[1m1s\u001b[0m 32ms/step - accuracy: 0.7406 - loss: 0.6689 - val_accuracy: 0.7006 - val_loss: 0.7071\n",
      "Epoch 25/30\n",
      "\u001b[1m35/35\u001b[0m \u001b[32m━━━━━━━━━━━━━━━━━━━━\u001b[0m\u001b[37m\u001b[0m \u001b[1m1s\u001b[0m 32ms/step - accuracy: 0.7656 - loss: 0.6532 - val_accuracy: 0.7091 - val_loss: 0.6927\n",
      "Epoch 26/30\n",
      "\u001b[1m35/35\u001b[0m \u001b[32m━━━━━━━━━━━━━━━━━━━━\u001b[0m\u001b[37m\u001b[0m \u001b[1m1s\u001b[0m 32ms/step - accuracy: 0.7679 - loss: 0.6548 - val_accuracy: 0.7028 - val_loss: 0.7035\n",
      "Epoch 27/30\n",
      "\u001b[1m35/35\u001b[0m \u001b[32m━━━━━━━━━━━━━━━━━━━━\u001b[0m\u001b[37m\u001b[0m \u001b[1m1s\u001b[0m 33ms/step - accuracy: 0.7648 - loss: 0.6528 - val_accuracy: 0.7028 - val_loss: 0.6994\n",
      "Epoch 28/30\n",
      "\u001b[1m35/35\u001b[0m \u001b[32m━━━━━━━━━━━━━━━━━━━━\u001b[0m\u001b[37m\u001b[0m \u001b[1m1s\u001b[0m 32ms/step - accuracy: 0.7955 - loss: 0.6290 - val_accuracy: 0.7028 - val_loss: 0.7057\n",
      "Epoch 29/30\n",
      "\u001b[1m35/35\u001b[0m \u001b[32m━━━━━━━━━━━━━━━━━━━━\u001b[0m\u001b[37m\u001b[0m \u001b[1m1s\u001b[0m 32ms/step - accuracy: 0.7840 - loss: 0.6177 - val_accuracy: 0.6943 - val_loss: 0.7088\n",
      "Epoch 30/30\n",
      "\u001b[1m35/35\u001b[0m \u001b[32m━━━━━━━━━━━━━━━━━━━━\u001b[0m\u001b[37m\u001b[0m \u001b[1m1s\u001b[0m 32ms/step - accuracy: 0.8165 - loss: 0.6169 - val_accuracy: 0.6985 - val_loss: 0.7140\n"
     ]
    }
   ],
   "source": [
    "# fit the model up to 30 epochs\n",
    "history_functional = functional_model.fit(X_train_scaled, \n",
    "                                          y_train, \n",
    "                                          epochs=30, \n",
    "                                          validation_split=0.3, \n",
    "                                          callbacks=[early_stopping_monitor]) "
   ]
  },
  {
   "cell_type": "code",
   "execution_count": 29,
   "id": "b4328192-fac3-4ce2-a85b-78edc3c5b8da",
   "metadata": {},
   "outputs": [],
   "source": [
    "# initialize the sequential model\n",
    "sequential_model = Sequential()\n",
    "\n",
    "# add the input layer\n",
    "sequential_model.add(Input(shape=(X_train_scaled.shape[1], X_train.shape[2])))\n",
    "\n",
    "# add the bidirectional LSTM before flattening to capture patterns in both forward and backward directions\n",
    "sequential_model.add(Bidirectional(LSTM(30, return_sequences=True,  dropout=0.4, recurrent_dropout=0.4)))\n",
    "\n",
    "# flatten the LSTM output to prepare for dense layers\n",
    "sequential_model.add(Flatten())\n",
    "\n",
    "# the first layer is equivalent to the the first layer of the functional model (12 nodes each distinct layer)\n",
    "sequential_model.add(Dense(24, activation='relu', kernel_regularizer=l2(0.05)))\n",
    "sequential_model.add(Dropout(0.4))\n",
    "\n",
    "# the second layer is equivalent to the the second layer of the functional model (8 nodes each distinct layer)\n",
    "sequential_model.add(Dense(16, activation='tanh', kernel_regularizer=l2(0.05)))\n",
    "sequential_model.add(Dropout(0.3))\n",
    "\n",
    "sequential_model.add(Dense(16, activation='relu', kernel_regularizer=l2(0.05)))\n",
    "sequential_model.add(Dropout(0.3))\n",
    "\n",
    "# the first shared layer wiith 10 nodes\n",
    "sequential_model.add(Dense(10, activation='tanh', kernel_regularizer=l2(0.05)))\n",
    "sequential_model.add(Dropout(0.3))\n",
    "\n",
    "# the output laye with sigmoid activation for binary classification\n",
    "sequential_model.add(Dense(1, activation='sigmoid'))\n",
    "\n",
    "# compile the model using adam optimizer, binary cross-entropy loss, and accuracy, recall, and precision as metrics\n",
    "sequential_model.compile(optimizer='adam',\n",
    "                         loss='binary_crossentropy',\n",
    "                         metrics=['accuracy'])"
   ]
  },
  {
   "cell_type": "code",
   "execution_count": 30,
   "id": "5d78235c-307a-4e24-8027-086f7adf0007",
   "metadata": {},
   "outputs": [
    {
     "name": "stdout",
     "output_type": "stream",
     "text": [
      "Epoch 1/30\n",
      "\u001b[1m35/35\u001b[0m \u001b[32m━━━━━━━━━━━━━━━━━━━━\u001b[0m\u001b[37m\u001b[0m \u001b[1m6s\u001b[0m 50ms/step - accuracy: 0.5034 - loss: 4.8706 - val_accuracy: 0.5308 - val_loss: 3.4211\n",
      "Epoch 2/30\n",
      "\u001b[1m35/35\u001b[0m \u001b[32m━━━━━━━━━━━━━━━━━━━━\u001b[0m\u001b[37m\u001b[0m \u001b[1m1s\u001b[0m 34ms/step - accuracy: 0.5098 - loss: 3.1296 - val_accuracy: 0.5541 - val_loss: 2.4216\n",
      "Epoch 3/30\n",
      "\u001b[1m35/35\u001b[0m \u001b[32m━━━━━━━━━━━━━━━━━━━━\u001b[0m\u001b[37m\u001b[0m \u001b[1m1s\u001b[0m 32ms/step - accuracy: 0.5426 - loss: 2.2773 - val_accuracy: 0.5074 - val_loss: 1.9260\n",
      "Epoch 4/30\n",
      "\u001b[1m35/35\u001b[0m \u001b[32m━━━━━━━━━━━━━━━━━━━━\u001b[0m\u001b[37m\u001b[0m \u001b[1m1s\u001b[0m 31ms/step - accuracy: 0.5248 - loss: 1.8445 - val_accuracy: 0.6391 - val_loss: 1.6155\n",
      "Epoch 5/30\n",
      "\u001b[1m35/35\u001b[0m \u001b[32m━━━━━━━━━━━━━━━━━━━━\u001b[0m\u001b[37m\u001b[0m \u001b[1m1s\u001b[0m 31ms/step - accuracy: 0.5895 - loss: 1.5564 - val_accuracy: 0.6136 - val_loss: 1.3941\n",
      "Epoch 6/30\n",
      "\u001b[1m35/35\u001b[0m \u001b[32m━━━━━━━━━━━━━━━━━━━━\u001b[0m\u001b[37m\u001b[0m \u001b[1m1s\u001b[0m 32ms/step - accuracy: 0.5809 - loss: 1.3502 - val_accuracy: 0.6306 - val_loss: 1.2242\n",
      "Epoch 7/30\n",
      "\u001b[1m35/35\u001b[0m \u001b[32m━━━━━━━━━━━━━━━━━━━━\u001b[0m\u001b[37m\u001b[0m \u001b[1m1s\u001b[0m 31ms/step - accuracy: 0.6036 - loss: 1.1904 - val_accuracy: 0.6285 - val_loss: 1.0943\n",
      "Epoch 8/30\n",
      "\u001b[1m35/35\u001b[0m \u001b[32m━━━━━━━━━━━━━━━━━━━━\u001b[0m\u001b[37m\u001b[0m \u001b[1m1s\u001b[0m 32ms/step - accuracy: 0.5776 - loss: 1.0739 - val_accuracy: 0.6285 - val_loss: 0.9934\n",
      "Epoch 9/30\n",
      "\u001b[1m35/35\u001b[0m \u001b[32m━━━━━━━━━━━━━━━━━━━━\u001b[0m\u001b[37m\u001b[0m \u001b[1m1s\u001b[0m 31ms/step - accuracy: 0.6341 - loss: 0.9754 - val_accuracy: 0.6285 - val_loss: 0.9185\n",
      "Epoch 10/30\n",
      "\u001b[1m35/35\u001b[0m \u001b[32m━━━━━━━━━━━━━━━━━━━━\u001b[0m\u001b[37m\u001b[0m \u001b[1m1s\u001b[0m 31ms/step - accuracy: 0.6085 - loss: 0.9049 - val_accuracy: 0.6369 - val_loss: 0.8613\n",
      "Epoch 11/30\n",
      "\u001b[1m35/35\u001b[0m \u001b[32m━━━━━━━━━━━━━━━━━━━━\u001b[0m\u001b[37m\u001b[0m \u001b[1m1s\u001b[0m 31ms/step - accuracy: 0.6124 - loss: 0.8503 - val_accuracy: 0.6391 - val_loss: 0.8186\n",
      "Epoch 12/30\n",
      "\u001b[1m35/35\u001b[0m \u001b[32m━━━━━━━━━━━━━━━━━━━━\u001b[0m\u001b[37m\u001b[0m \u001b[1m1s\u001b[0m 31ms/step - accuracy: 0.6144 - loss: 0.8115 - val_accuracy: 0.6327 - val_loss: 0.7862\n",
      "Epoch 13/30\n",
      "\u001b[1m35/35\u001b[0m \u001b[32m━━━━━━━━━━━━━━━━━━━━\u001b[0m\u001b[37m\u001b[0m \u001b[1m1s\u001b[0m 31ms/step - accuracy: 0.6021 - loss: 0.7832 - val_accuracy: 0.6433 - val_loss: 0.7636\n",
      "Epoch 14/30\n",
      "\u001b[1m35/35\u001b[0m \u001b[32m━━━━━━━━━━━━━━━━━━━━\u001b[0m\u001b[37m\u001b[0m \u001b[1m1s\u001b[0m 32ms/step - accuracy: 0.6204 - loss: 0.7586 - val_accuracy: 0.6645 - val_loss: 0.7461\n",
      "Epoch 15/30\n",
      "\u001b[1m35/35\u001b[0m \u001b[32m━━━━━━━━━━━━━━━━━━━━\u001b[0m\u001b[37m\u001b[0m \u001b[1m1s\u001b[0m 32ms/step - accuracy: 0.6148 - loss: 0.7430 - val_accuracy: 0.6497 - val_loss: 0.7330\n",
      "Epoch 16/30\n",
      "\u001b[1m35/35\u001b[0m \u001b[32m━━━━━━━━━━━━━━━━━━━━\u001b[0m\u001b[37m\u001b[0m \u001b[1m1s\u001b[0m 31ms/step - accuracy: 0.6175 - loss: 0.7318 - val_accuracy: 0.6306 - val_loss: 0.7240\n",
      "Epoch 17/30\n",
      "\u001b[1m35/35\u001b[0m \u001b[32m━━━━━━━━━━━━━━━━━━━━\u001b[0m\u001b[37m\u001b[0m \u001b[1m1s\u001b[0m 31ms/step - accuracy: 0.6344 - loss: 0.7230 - val_accuracy: 0.6412 - val_loss: 0.7167\n",
      "Epoch 18/30\n",
      "\u001b[1m35/35\u001b[0m \u001b[32m━━━━━━━━━━━━━━━━━━━━\u001b[0m\u001b[37m\u001b[0m \u001b[1m1s\u001b[0m 31ms/step - accuracy: 0.5777 - loss: 0.7169 - val_accuracy: 0.5350 - val_loss: 0.7117\n",
      "Epoch 19/30\n",
      "\u001b[1m35/35\u001b[0m \u001b[32m━━━━━━━━━━━━━━━━━━━━\u001b[0m\u001b[37m\u001b[0m \u001b[1m1s\u001b[0m 32ms/step - accuracy: 0.5421 - loss: 0.7123 - val_accuracy: 0.5520 - val_loss: 0.7079\n",
      "Epoch 20/30\n",
      "\u001b[1m35/35\u001b[0m \u001b[32m━━━━━━━━━━━━━━━━━━━━\u001b[0m\u001b[37m\u001b[0m \u001b[1m1s\u001b[0m 33ms/step - accuracy: 0.5892 - loss: 0.7073 - val_accuracy: 0.5541 - val_loss: 0.7047\n",
      "Epoch 21/30\n",
      "\u001b[1m35/35\u001b[0m \u001b[32m━━━━━━━━━━━━━━━━━━━━\u001b[0m\u001b[37m\u001b[0m \u001b[1m1s\u001b[0m 34ms/step - accuracy: 0.5899 - loss: 0.7034 - val_accuracy: 0.5244 - val_loss: 0.7017\n",
      "Epoch 22/30\n",
      "\u001b[1m35/35\u001b[0m \u001b[32m━━━━━━━━━━━━━━━━━━━━\u001b[0m\u001b[37m\u001b[0m \u001b[1m1s\u001b[0m 32ms/step - accuracy: 0.5497 - loss: 0.7010 - val_accuracy: 0.5138 - val_loss: 0.6988\n",
      "Epoch 23/30\n",
      "\u001b[1m35/35\u001b[0m \u001b[32m━━━━━━━━━━━━━━━━━━━━\u001b[0m\u001b[37m\u001b[0m \u001b[1m1s\u001b[0m 32ms/step - accuracy: 0.5235 - loss: 0.6984 - val_accuracy: 0.5138 - val_loss: 0.6968\n",
      "Epoch 24/30\n",
      "\u001b[1m35/35\u001b[0m \u001b[32m━━━━━━━━━━━━━━━━━━━━\u001b[0m\u001b[37m\u001b[0m \u001b[1m1s\u001b[0m 32ms/step - accuracy: 0.4945 - loss: 0.6965 - val_accuracy: 0.4862 - val_loss: 0.6955\n",
      "Epoch 25/30\n",
      "\u001b[1m35/35\u001b[0m \u001b[32m━━━━━━━━━━━━━━━━━━━━\u001b[0m\u001b[37m\u001b[0m \u001b[1m1s\u001b[0m 32ms/step - accuracy: 0.4759 - loss: 0.6957 - val_accuracy: 0.5138 - val_loss: 0.6945\n",
      "Epoch 26/30\n",
      "\u001b[1m35/35\u001b[0m \u001b[32m━━━━━━━━━━━━━━━━━━━━\u001b[0m\u001b[37m\u001b[0m \u001b[1m1s\u001b[0m 32ms/step - accuracy: 0.4716 - loss: 0.6949 - val_accuracy: 0.5138 - val_loss: 0.6938\n",
      "Epoch 27/30\n",
      "\u001b[1m35/35\u001b[0m \u001b[32m━━━━━━━━━━━━━━━━━━━━\u001b[0m\u001b[37m\u001b[0m \u001b[1m1s\u001b[0m 32ms/step - accuracy: 0.5023 - loss: 0.6939 - val_accuracy: 0.5138 - val_loss: 0.6935\n",
      "Epoch 28/30\n",
      "\u001b[1m35/35\u001b[0m \u001b[32m━━━━━━━━━━━━━━━━━━━━\u001b[0m\u001b[37m\u001b[0m \u001b[1m1s\u001b[0m 32ms/step - accuracy: 0.4818 - loss: 0.6939 - val_accuracy: 0.5138 - val_loss: 0.6933\n",
      "Epoch 29/30\n",
      "\u001b[1m35/35\u001b[0m \u001b[32m━━━━━━━━━━━━━━━━━━━━\u001b[0m\u001b[37m\u001b[0m \u001b[1m1s\u001b[0m 34ms/step - accuracy: 0.5093 - loss: 0.6933 - val_accuracy: 0.5138 - val_loss: 0.6932\n",
      "Epoch 30/30\n",
      "\u001b[1m35/35\u001b[0m \u001b[32m━━━━━━━━━━━━━━━━━━━━\u001b[0m\u001b[37m\u001b[0m \u001b[1m1s\u001b[0m 32ms/step - accuracy: 0.5042 - loss: 0.6935 - val_accuracy: 0.5138 - val_loss: 0.6931\n"
     ]
    }
   ],
   "source": [
    "# fit the model up to 30 epochs\n",
    "history_sequential = sequential_model.fit(X_train_scaled, \n",
    "                                          y_train, \n",
    "                                          epochs=30, \n",
    "                                          validation_split=0.3, \n",
    "                                          callbacks=[early_stopping_monitor]) "
   ]
  },
  {
   "cell_type": "markdown",
   "id": "4c4c431f-7e89-448d-a16e-c6e03bc30df3",
   "metadata": {},
   "source": [
    "## Assess Both Current Models\n",
    "- Print the performance metrics."
   ]
  },
  {
   "cell_type": "code",
   "execution_count": 31,
   "id": "b12b23b8-268f-4fb6-a609-61260f78f6ea",
   "metadata": {},
   "outputs": [
    {
     "name": "stdout",
     "output_type": "stream",
     "text": [
      "Functional Model:\n",
      "Final Training Loss: 0.6297\n",
      "Final Validation Loss: 0.714\n",
      "Final Training Accuracy: 0.7825\n",
      "Final Validation Accuracy 0.6985\n",
      "\n",
      "Sequential Model:\n",
      "Final Training Loss: 0.6934\n",
      "Final Validation Loss: 0.6931\n",
      "Final Training Accuracy: 0.5068\n",
      "Final Validation Accuracy 0.5138\n"
     ]
    }
   ],
   "source": [
    "print(\"Functional Model:\")\n",
    "print(\"Final Training Loss:\", round(history_functional.history['loss'][-1], 4))\n",
    "print(\"Final Validation Loss:\", round(history_functional.history['val_loss'][-1], 4))\n",
    "print(\"Final Training Accuracy:\", round(history_functional.history['accuracy'][-1], 4))\n",
    "print(\"Final Validation Accuracy\", round(history_functional.history['val_accuracy'][-1], 4))\n",
    "\n",
    "print(\"\\nSequential Model:\")\n",
    "print(\"Final Training Loss:\", round(history_sequential.history['loss'][-1], 4))\n",
    "print(\"Final Validation Loss:\", round(history_sequential.history['val_loss'][-1], 4))\n",
    "print(\"Final Training Accuracy:\", round(history_sequential.history['accuracy'][-1], 4))\n",
    "print(\"Final Validation Accuracy\", round(history_sequential.history['val_accuracy'][-1], 4))"
   ]
  },
  {
   "cell_type": "markdown",
   "id": "895257dd-488b-4e7c-851e-1a4b6da18fa6",
   "metadata": {},
   "source": [
    "## Assess the Optimal Models\n",
    "\n",
    "Note: The optimal models are those saved from the training with peak performance. The current models shown above are just the most recently initialized versions, which may or may not converge to the same level of performance. The optimal models were saved due to the inconsistent converging during training.\n",
    "\n",
    "- Visualize the optimal models' loss and accuracy.\n",
    "- Display the current and optimal models' output summary.\n",
    "- Load all the saved models.\n",
    "    - Optimal Functional\n",
    "    - Optimal Sequential\n",
    "- Evaluate the models\n",
    "- Print and comapare their performance."
   ]
  },
  {
   "cell_type": "code",
   "execution_count": 32,
   "id": "00324abe-2b31-4a6e-a1d3-22bb8bf83047",
   "metadata": {},
   "outputs": [
    {
     "data": {
      "image/png": "[encoded data removed]",
      "text/plain": [
       "<Figure size 1200x500 with 2 Axes>"
      ]
     },
     "metadata": {},
     "output_type": "display_data"
    },
    {
     "data": {
      "image/png": "[encoded data removed]",
      "text/plain": [
       "<Figure size 1200x500 with 2 Axes>"
      ]
     },
     "metadata": {},
     "output_type": "display_data"
    }
   ],
   "source": [
    "file_path = \"/Users/rancelhernandez/Downloads/D213_Task2_Files/model_history_1.json\"\n",
    "\n",
    "# load the optimal functional model training history from the json file\n",
    "with open(file_path, 'r') as f:\n",
    "    history_functional = json.load(f)\n",
    "\n",
    "# create figure and axis for the plot\n",
    "plt.figure(figsize=(12, 5))\n",
    "\n",
    "# plot training and validation loss\n",
    "plt.subplot(1, 2, 1)  \n",
    "plt.plot(history_functional['loss'], label='Training Loss')\n",
    "plt.plot(history_functional['val_loss'], label='Validation Loss')\n",
    "plt.title('Functional Model Loss')\n",
    "plt.xlabel('Epoch')\n",
    "plt.ylabel('Loss')\n",
    "plt.legend()\n",
    "\n",
    "# plot training and validation accuracy \n",
    "plt.subplot(1, 2, 2)  \n",
    "plt.plot(history_functional['accuracy'], label='Training Accuracy')\n",
    "plt.plot(history_functional['val_accuracy'], label='Validation Accuracy')\n",
    "plt.title('Functional Model Accuracy')\n",
    "plt.xlabel('Epoch')\n",
    "plt.ylabel('Accuracy')\n",
    "plt.legend()\n",
    "\n",
    "file_path = \"/Users/rancelhernandez/Downloads/D213_Task2_Files/history_sequential_1.json\"\n",
    "\n",
    "# load the optimal sequential model training history from the json file\n",
    "with open(file_path, 'r') as f:\n",
    "    history_sequential = json.load(f)\n",
    "\n",
    "# create figure and axis for the plot\n",
    "plt.figure(figsize=(12, 5))\n",
    "\n",
    "# plot training and validation loss\n",
    "plt.subplot(1, 2, 1)  \n",
    "plt.plot(history_sequential['loss'], label='Training Loss')\n",
    "plt.plot(history_sequential['val_loss'], label='Validation Loss')\n",
    "plt.title('Sequential Model Loss')\n",
    "plt.xlabel('Epoch')\n",
    "plt.ylabel('Loss')\n",
    "plt.legend()\n",
    "\n",
    "# plot training and validation accuracy \n",
    "plt.subplot(1, 2, 2)  \n",
    "plt.plot(history_sequential['accuracy'], label='Training Accuracy')\n",
    "plt.plot(history_sequential['val_accuracy'], label='Validation Accuracy')\n",
    "plt.title('Sequential Model Accuracy')\n",
    "plt.xlabel('Epoch')\n",
    "plt.ylabel('Accuracy')\n",
    "plt.legend()\n",
    "\n",
    "plt.tight_layout()\n",
    "plt.show()"
   ]
  },
  {
   "cell_type": "code",
   "execution_count": 33,
   "id": "953b8540-31f9-403a-bd3e-eb5d32c6bbba",
   "metadata": {},
   "outputs": [
    {
     "data": {
      "text/html": [
       "<pre style=\"white-space:pre;overflow-x:auto;line-height:normal;font-family:Menlo,'DejaVu Sans Mono',consolas,'Courier New',monospace\"><span style=\"font-weight: bold\">Model: \"functional\"</span>\n",
       "</pre>\n"
      ],
      "text/plain": [
       "\u001b[1mModel: \"functional\"\u001b[0m\n"
      ]
     },
     "metadata": {},
     "output_type": "display_data"
    },
    {
     "data": {
      "text/html": [
       "<pre style=\"white-space:pre;overflow-x:auto;line-height:normal;font-family:Menlo,'DejaVu Sans Mono',consolas,'Courier New',monospace\">┏━━━━━━━━━━━━━━━━━━━━━┳━━━━━━━━━━━━━━━━━━━┳━━━━━━━━━━━━┳━━━━━━━━━━━━━━━━━━━┓\n",
       "┃<span style=\"font-weight: bold\"> Layer (type)        </span>┃<span style=\"font-weight: bold\"> Output Shape      </span>┃<span style=\"font-weight: bold\">    Param # </span>┃<span style=\"font-weight: bold\"> Connected to      </span>┃\n",
       "┡━━━━━━━━━━━━━━━━━━━━━╇━━━━━━━━━━━━━━━━━━━╇━━━━━━━━━━━━╇━━━━━━━━━━━━━━━━━━━┩\n",
       "│ input_layer         │ (<span style=\"color: #00d7ff; text-decoration-color: #00d7ff\">None</span>, <span style=\"color: #00af00; text-decoration-color: #00af00\">31</span>, <span style=\"color: #00af00; text-decoration-color: #00af00\">300</span>)   │          <span style=\"color: #00af00; text-decoration-color: #00af00\">0</span> │ -                 │\n",
       "│ (<span style=\"color: #0087ff; text-decoration-color: #0087ff\">InputLayer</span>)        │                   │            │                   │\n",
       "├─────────────────────┼───────────────────┼────────────┼───────────────────┤\n",
       "│ bidirectional       │ (<span style=\"color: #00d7ff; text-decoration-color: #00d7ff\">None</span>, <span style=\"color: #00af00; text-decoration-color: #00af00\">31</span>, <span style=\"color: #00af00; text-decoration-color: #00af00\">60</span>)    │     <span style=\"color: #00af00; text-decoration-color: #00af00\">79,440</span> │ input_layer[<span style=\"color: #00af00; text-decoration-color: #00af00\">0</span>][<span style=\"color: #00af00; text-decoration-color: #00af00\">0</span>] │\n",
       "│ (<span style=\"color: #0087ff; text-decoration-color: #0087ff\">Bidirectional</span>)     │                   │            │                   │\n",
       "├─────────────────────┼───────────────────┼────────────┼───────────────────┤\n",
       "│ flatten (<span style=\"color: #0087ff; text-decoration-color: #0087ff\">Flatten</span>)   │ (<span style=\"color: #00d7ff; text-decoration-color: #00d7ff\">None</span>, <span style=\"color: #00af00; text-decoration-color: #00af00\">1860</span>)      │          <span style=\"color: #00af00; text-decoration-color: #00af00\">0</span> │ bidirectional[<span style=\"color: #00af00; text-decoration-color: #00af00\">0</span>]… │\n",
       "├─────────────────────┼───────────────────┼────────────┼───────────────────┤\n",
       "│ dense (<span style=\"color: #0087ff; text-decoration-color: #0087ff\">Dense</span>)       │ (<span style=\"color: #00d7ff; text-decoration-color: #00d7ff\">None</span>, <span style=\"color: #00af00; text-decoration-color: #00af00\">12</span>)        │     <span style=\"color: #00af00; text-decoration-color: #00af00\">22,332</span> │ flatten[<span style=\"color: #00af00; text-decoration-color: #00af00\">0</span>][<span style=\"color: #00af00; text-decoration-color: #00af00\">0</span>]     │\n",
       "├─────────────────────┼───────────────────┼────────────┼───────────────────┤\n",
       "│ dense_3 (<span style=\"color: #0087ff; text-decoration-color: #0087ff\">Dense</span>)     │ (<span style=\"color: #00d7ff; text-decoration-color: #00d7ff\">None</span>, <span style=\"color: #00af00; text-decoration-color: #00af00\">12</span>)        │     <span style=\"color: #00af00; text-decoration-color: #00af00\">22,332</span> │ flatten[<span style=\"color: #00af00; text-decoration-color: #00af00\">0</span>][<span style=\"color: #00af00; text-decoration-color: #00af00\">0</span>]     │\n",
       "├─────────────────────┼───────────────────┼────────────┼───────────────────┤\n",
       "│ dropout (<span style=\"color: #0087ff; text-decoration-color: #0087ff\">Dropout</span>)   │ (<span style=\"color: #00d7ff; text-decoration-color: #00d7ff\">None</span>, <span style=\"color: #00af00; text-decoration-color: #00af00\">12</span>)        │          <span style=\"color: #00af00; text-decoration-color: #00af00\">0</span> │ dense[<span style=\"color: #00af00; text-decoration-color: #00af00\">0</span>][<span style=\"color: #00af00; text-decoration-color: #00af00\">0</span>]       │\n",
       "├─────────────────────┼───────────────────┼────────────┼───────────────────┤\n",
       "│ dropout_3 (<span style=\"color: #0087ff; text-decoration-color: #0087ff\">Dropout</span>) │ (<span style=\"color: #00d7ff; text-decoration-color: #00d7ff\">None</span>, <span style=\"color: #00af00; text-decoration-color: #00af00\">12</span>)        │          <span style=\"color: #00af00; text-decoration-color: #00af00\">0</span> │ dense_3[<span style=\"color: #00af00; text-decoration-color: #00af00\">0</span>][<span style=\"color: #00af00; text-decoration-color: #00af00\">0</span>]     │\n",
       "├─────────────────────┼───────────────────┼────────────┼───────────────────┤\n",
       "│ dense_1 (<span style=\"color: #0087ff; text-decoration-color: #0087ff\">Dense</span>)     │ (<span style=\"color: #00d7ff; text-decoration-color: #00d7ff\">None</span>, <span style=\"color: #00af00; text-decoration-color: #00af00\">8</span>)         │        <span style=\"color: #00af00; text-decoration-color: #00af00\">104</span> │ dropout[<span style=\"color: #00af00; text-decoration-color: #00af00\">0</span>][<span style=\"color: #00af00; text-decoration-color: #00af00\">0</span>]     │\n",
       "├─────────────────────┼───────────────────┼────────────┼───────────────────┤\n",
       "│ dense_4 (<span style=\"color: #0087ff; text-decoration-color: #0087ff\">Dense</span>)     │ (<span style=\"color: #00d7ff; text-decoration-color: #00d7ff\">None</span>, <span style=\"color: #00af00; text-decoration-color: #00af00\">8</span>)         │        <span style=\"color: #00af00; text-decoration-color: #00af00\">104</span> │ dropout_3[<span style=\"color: #00af00; text-decoration-color: #00af00\">0</span>][<span style=\"color: #00af00; text-decoration-color: #00af00\">0</span>]   │\n",
       "├─────────────────────┼───────────────────┼────────────┼───────────────────┤\n",
       "│ dropout_1 (<span style=\"color: #0087ff; text-decoration-color: #0087ff\">Dropout</span>) │ (<span style=\"color: #00d7ff; text-decoration-color: #00d7ff\">None</span>, <span style=\"color: #00af00; text-decoration-color: #00af00\">8</span>)         │          <span style=\"color: #00af00; text-decoration-color: #00af00\">0</span> │ dense_1[<span style=\"color: #00af00; text-decoration-color: #00af00\">0</span>][<span style=\"color: #00af00; text-decoration-color: #00af00\">0</span>]     │\n",
       "├─────────────────────┼───────────────────┼────────────┼───────────────────┤\n",
       "│ dropout_4 (<span style=\"color: #0087ff; text-decoration-color: #0087ff\">Dropout</span>) │ (<span style=\"color: #00d7ff; text-decoration-color: #00d7ff\">None</span>, <span style=\"color: #00af00; text-decoration-color: #00af00\">8</span>)         │          <span style=\"color: #00af00; text-decoration-color: #00af00\">0</span> │ dense_4[<span style=\"color: #00af00; text-decoration-color: #00af00\">0</span>][<span style=\"color: #00af00; text-decoration-color: #00af00\">0</span>]     │\n",
       "├─────────────────────┼───────────────────┼────────────┼───────────────────┤\n",
       "│ dense_2 (<span style=\"color: #0087ff; text-decoration-color: #0087ff\">Dense</span>)     │ (<span style=\"color: #00d7ff; text-decoration-color: #00d7ff\">None</span>, <span style=\"color: #00af00; text-decoration-color: #00af00\">8</span>)         │         <span style=\"color: #00af00; text-decoration-color: #00af00\">72</span> │ dropout_1[<span style=\"color: #00af00; text-decoration-color: #00af00\">0</span>][<span style=\"color: #00af00; text-decoration-color: #00af00\">0</span>]   │\n",
       "├─────────────────────┼───────────────────┼────────────┼───────────────────┤\n",
       "│ dense_5 (<span style=\"color: #0087ff; text-decoration-color: #0087ff\">Dense</span>)     │ (<span style=\"color: #00d7ff; text-decoration-color: #00d7ff\">None</span>, <span style=\"color: #00af00; text-decoration-color: #00af00\">8</span>)         │         <span style=\"color: #00af00; text-decoration-color: #00af00\">72</span> │ dropout_4[<span style=\"color: #00af00; text-decoration-color: #00af00\">0</span>][<span style=\"color: #00af00; text-decoration-color: #00af00\">0</span>]   │\n",
       "├─────────────────────┼───────────────────┼────────────┼───────────────────┤\n",
       "│ dropout_2 (<span style=\"color: #0087ff; text-decoration-color: #0087ff\">Dropout</span>) │ (<span style=\"color: #00d7ff; text-decoration-color: #00d7ff\">None</span>, <span style=\"color: #00af00; text-decoration-color: #00af00\">8</span>)         │          <span style=\"color: #00af00; text-decoration-color: #00af00\">0</span> │ dense_2[<span style=\"color: #00af00; text-decoration-color: #00af00\">0</span>][<span style=\"color: #00af00; text-decoration-color: #00af00\">0</span>]     │\n",
       "├─────────────────────┼───────────────────┼────────────┼───────────────────┤\n",
       "│ dropout_5 (<span style=\"color: #0087ff; text-decoration-color: #0087ff\">Dropout</span>) │ (<span style=\"color: #00d7ff; text-decoration-color: #00d7ff\">None</span>, <span style=\"color: #00af00; text-decoration-color: #00af00\">8</span>)         │          <span style=\"color: #00af00; text-decoration-color: #00af00\">0</span> │ dense_5[<span style=\"color: #00af00; text-decoration-color: #00af00\">0</span>][<span style=\"color: #00af00; text-decoration-color: #00af00\">0</span>]     │\n",
       "├─────────────────────┼───────────────────┼────────────┼───────────────────┤\n",
       "│ concatenate         │ (<span style=\"color: #00d7ff; text-decoration-color: #00d7ff\">None</span>, <span style=\"color: #00af00; text-decoration-color: #00af00\">16</span>)        │          <span style=\"color: #00af00; text-decoration-color: #00af00\">0</span> │ dropout_2[<span style=\"color: #00af00; text-decoration-color: #00af00\">0</span>][<span style=\"color: #00af00; text-decoration-color: #00af00\">0</span>],  │\n",
       "│ (<span style=\"color: #0087ff; text-decoration-color: #0087ff\">Concatenate</span>)       │                   │            │ dropout_5[<span style=\"color: #00af00; text-decoration-color: #00af00\">0</span>][<span style=\"color: #00af00; text-decoration-color: #00af00\">0</span>]   │\n",
       "├─────────────────────┼───────────────────┼────────────┼───────────────────┤\n",
       "│ dense_6 (<span style=\"color: #0087ff; text-decoration-color: #0087ff\">Dense</span>)     │ (<span style=\"color: #00d7ff; text-decoration-color: #00d7ff\">None</span>, <span style=\"color: #00af00; text-decoration-color: #00af00\">10</span>)        │        <span style=\"color: #00af00; text-decoration-color: #00af00\">170</span> │ concatenate[<span style=\"color: #00af00; text-decoration-color: #00af00\">0</span>][<span style=\"color: #00af00; text-decoration-color: #00af00\">0</span>] │\n",
       "├─────────────────────┼───────────────────┼────────────┼───────────────────┤\n",
       "│ dropout_6 (<span style=\"color: #0087ff; text-decoration-color: #0087ff\">Dropout</span>) │ (<span style=\"color: #00d7ff; text-decoration-color: #00d7ff\">None</span>, <span style=\"color: #00af00; text-decoration-color: #00af00\">10</span>)        │          <span style=\"color: #00af00; text-decoration-color: #00af00\">0</span> │ dense_6[<span style=\"color: #00af00; text-decoration-color: #00af00\">0</span>][<span style=\"color: #00af00; text-decoration-color: #00af00\">0</span>]     │\n",
       "├─────────────────────┼───────────────────┼────────────┼───────────────────┤\n",
       "│ dense_7 (<span style=\"color: #0087ff; text-decoration-color: #0087ff\">Dense</span>)     │ (<span style=\"color: #00d7ff; text-decoration-color: #00d7ff\">None</span>, <span style=\"color: #00af00; text-decoration-color: #00af00\">1</span>)         │         <span style=\"color: #00af00; text-decoration-color: #00af00\">11</span> │ dropout_6[<span style=\"color: #00af00; text-decoration-color: #00af00\">0</span>][<span style=\"color: #00af00; text-decoration-color: #00af00\">0</span>]   │\n",
       "└─────────────────────┴───────────────────┴────────────┴───────────────────┘\n",
       "</pre>\n"
      ],
      "text/plain": [
       "┏━━━━━━━━━━━━━━━━━━━━━┳━━━━━━━━━━━━━━━━━━━┳━━━━━━━━━━━━┳━━━━━━━━━━━━━━━━━━━┓\n",
       "┃\u001b[1m \u001b[0m\u001b[1mLayer (type)       \u001b[0m\u001b[1m \u001b[0m┃\u001b[1m \u001b[0m\u001b[1mOutput Shape     \u001b[0m\u001b[1m \u001b[0m┃\u001b[1m \u001b[0m\u001b[1m   Param #\u001b[0m\u001b[1m \u001b[0m┃\u001b[1m \u001b[0m\u001b[1mConnected to     \u001b[0m\u001b[1m \u001b[0m┃\n",
       "┡━━━━━━━━━━━━━━━━━━━━━╇━━━━━━━━━━━━━━━━━━━╇━━━━━━━━━━━━╇━━━━━━━━━━━━━━━━━━━┩\n",
       "│ input_layer         │ (\u001b[38;5;45mNone\u001b[0m, \u001b[38;5;34m31\u001b[0m, \u001b[38;5;34m300\u001b[0m)   │          \u001b[38;5;34m0\u001b[0m │ -                 │\n",
       "│ (\u001b[38;5;33mInputLayer\u001b[0m)        │                   │            │                   │\n",
       "├─────────────────────┼───────────────────┼────────────┼───────────────────┤\n",
       "│ bidirectional       │ (\u001b[38;5;45mNone\u001b[0m, \u001b[38;5;34m31\u001b[0m, \u001b[38;5;34m60\u001b[0m)    │     \u001b[38;5;34m79,440\u001b[0m │ input_layer[\u001b[38;5;34m0\u001b[0m][\u001b[38;5;34m0\u001b[0m] │\n",
       "│ (\u001b[38;5;33mBidirectional\u001b[0m)     │                   │            │                   │\n",
       "├─────────────────────┼───────────────────┼────────────┼───────────────────┤\n",
       "│ flatten (\u001b[38;5;33mFlatten\u001b[0m)   │ (\u001b[38;5;45mNone\u001b[0m, \u001b[38;5;34m1860\u001b[0m)      │          \u001b[38;5;34m0\u001b[0m │ bidirectional[\u001b[38;5;34m0\u001b[0m]… │\n",
       "├─────────────────────┼───────────────────┼────────────┼───────────────────┤\n",
       "│ dense (\u001b[38;5;33mDense\u001b[0m)       │ (\u001b[38;5;45mNone\u001b[0m, \u001b[38;5;34m12\u001b[0m)        │     \u001b[38;5;34m22,332\u001b[0m │ flatten[\u001b[38;5;34m0\u001b[0m][\u001b[38;5;34m0\u001b[0m]     │\n",
       "├─────────────────────┼───────────────────┼────────────┼───────────────────┤\n",
       "│ dense_3 (\u001b[38;5;33mDense\u001b[0m)     │ (\u001b[38;5;45mNone\u001b[0m, \u001b[38;5;34m12\u001b[0m)        │     \u001b[38;5;34m22,332\u001b[0m │ flatten[\u001b[38;5;34m0\u001b[0m][\u001b[38;5;34m0\u001b[0m]     │\n",
       "├─────────────────────┼───────────────────┼────────────┼───────────────────┤\n",
       "│ dropout (\u001b[38;5;33mDropout\u001b[0m)   │ (\u001b[38;5;45mNone\u001b[0m, \u001b[38;5;34m12\u001b[0m)        │          \u001b[38;5;34m0\u001b[0m │ dense[\u001b[38;5;34m0\u001b[0m][\u001b[38;5;34m0\u001b[0m]       │\n",
       "├─────────────────────┼───────────────────┼────────────┼───────────────────┤\n",
       "│ dropout_3 (\u001b[38;5;33mDropout\u001b[0m) │ (\u001b[38;5;45mNone\u001b[0m, \u001b[38;5;34m12\u001b[0m)        │          \u001b[38;5;34m0\u001b[0m │ dense_3[\u001b[38;5;34m0\u001b[0m][\u001b[38;5;34m0\u001b[0m]     │\n",
       "├─────────────────────┼───────────────────┼────────────┼───────────────────┤\n",
       "│ dense_1 (\u001b[38;5;33mDense\u001b[0m)     │ (\u001b[38;5;45mNone\u001b[0m, \u001b[38;5;34m8\u001b[0m)         │        \u001b[38;5;34m104\u001b[0m │ dropout[\u001b[38;5;34m0\u001b[0m][\u001b[38;5;34m0\u001b[0m]     │\n",
       "├─────────────────────┼───────────────────┼────────────┼───────────────────┤\n",
       "│ dense_4 (\u001b[38;5;33mDense\u001b[0m)     │ (\u001b[38;5;45mNone\u001b[0m, \u001b[38;5;34m8\u001b[0m)         │        \u001b[38;5;34m104\u001b[0m │ dropout_3[\u001b[38;5;34m0\u001b[0m][\u001b[38;5;34m0\u001b[0m]   │\n",
       "├─────────────────────┼───────────────────┼────────────┼───────────────────┤\n",
       "│ dropout_1 (\u001b[38;5;33mDropout\u001b[0m) │ (\u001b[38;5;45mNone\u001b[0m, \u001b[38;5;34m8\u001b[0m)         │          \u001b[38;5;34m0\u001b[0m │ dense_1[\u001b[38;5;34m0\u001b[0m][\u001b[38;5;34m0\u001b[0m]     │\n",
       "├─────────────────────┼───────────────────┼────────────┼───────────────────┤\n",
       "│ dropout_4 (\u001b[38;5;33mDropout\u001b[0m) │ (\u001b[38;5;45mNone\u001b[0m, \u001b[38;5;34m8\u001b[0m)         │          \u001b[38;5;34m0\u001b[0m │ dense_4[\u001b[38;5;34m0\u001b[0m][\u001b[38;5;34m0\u001b[0m]     │\n",
       "├─────────────────────┼───────────────────┼────────────┼───────────────────┤\n",
       "│ dense_2 (\u001b[38;5;33mDense\u001b[0m)     │ (\u001b[38;5;45mNone\u001b[0m, \u001b[38;5;34m8\u001b[0m)         │         \u001b[38;5;34m72\u001b[0m │ dropout_1[\u001b[38;5;34m0\u001b[0m][\u001b[38;5;34m0\u001b[0m]   │\n",
       "├─────────────────────┼───────────────────┼────────────┼───────────────────┤\n",
       "│ dense_5 (\u001b[38;5;33mDense\u001b[0m)     │ (\u001b[38;5;45mNone\u001b[0m, \u001b[38;5;34m8\u001b[0m)         │         \u001b[38;5;34m72\u001b[0m │ dropout_4[\u001b[38;5;34m0\u001b[0m][\u001b[38;5;34m0\u001b[0m]   │\n",
       "├─────────────────────┼───────────────────┼────────────┼───────────────────┤\n",
       "│ dropout_2 (\u001b[38;5;33mDropout\u001b[0m) │ (\u001b[38;5;45mNone\u001b[0m, \u001b[38;5;34m8\u001b[0m)         │          \u001b[38;5;34m0\u001b[0m │ dense_2[\u001b[38;5;34m0\u001b[0m][\u001b[38;5;34m0\u001b[0m]     │\n",
       "├─────────────────────┼───────────────────┼────────────┼───────────────────┤\n",
       "│ dropout_5 (\u001b[38;5;33mDropout\u001b[0m) │ (\u001b[38;5;45mNone\u001b[0m, \u001b[38;5;34m8\u001b[0m)         │          \u001b[38;5;34m0\u001b[0m │ dense_5[\u001b[38;5;34m0\u001b[0m][\u001b[38;5;34m0\u001b[0m]     │\n",
       "├─────────────────────┼───────────────────┼────────────┼───────────────────┤\n",
       "│ concatenate         │ (\u001b[38;5;45mNone\u001b[0m, \u001b[38;5;34m16\u001b[0m)        │          \u001b[38;5;34m0\u001b[0m │ dropout_2[\u001b[38;5;34m0\u001b[0m][\u001b[38;5;34m0\u001b[0m],  │\n",
       "│ (\u001b[38;5;33mConcatenate\u001b[0m)       │                   │            │ dropout_5[\u001b[38;5;34m0\u001b[0m][\u001b[38;5;34m0\u001b[0m]   │\n",
       "├─────────────────────┼───────────────────┼────────────┼───────────────────┤\n",
       "│ dense_6 (\u001b[38;5;33mDense\u001b[0m)     │ (\u001b[38;5;45mNone\u001b[0m, \u001b[38;5;34m10\u001b[0m)        │        \u001b[38;5;34m170\u001b[0m │ concatenate[\u001b[38;5;34m0\u001b[0m][\u001b[38;5;34m0\u001b[0m] │\n",
       "├─────────────────────┼───────────────────┼────────────┼───────────────────┤\n",
       "│ dropout_6 (\u001b[38;5;33mDropout\u001b[0m) │ (\u001b[38;5;45mNone\u001b[0m, \u001b[38;5;34m10\u001b[0m)        │          \u001b[38;5;34m0\u001b[0m │ dense_6[\u001b[38;5;34m0\u001b[0m][\u001b[38;5;34m0\u001b[0m]     │\n",
       "├─────────────────────┼───────────────────┼────────────┼───────────────────┤\n",
       "│ dense_7 (\u001b[38;5;33mDense\u001b[0m)     │ (\u001b[38;5;45mNone\u001b[0m, \u001b[38;5;34m1\u001b[0m)         │         \u001b[38;5;34m11\u001b[0m │ dropout_6[\u001b[38;5;34m0\u001b[0m][\u001b[38;5;34m0\u001b[0m]   │\n",
       "└─────────────────────┴───────────────────┴────────────┴───────────────────┘\n"
      ]
     },
     "metadata": {},
     "output_type": "display_data"
    },
    {
     "data": {
      "text/html": [
       "<pre style=\"white-space:pre;overflow-x:auto;line-height:normal;font-family:Menlo,'DejaVu Sans Mono',consolas,'Courier New',monospace\"><span style=\"font-weight: bold\"> Total params: </span><span style=\"color: #00af00; text-decoration-color: #00af00\">373,913</span> (1.43 MB)\n",
       "</pre>\n"
      ],
      "text/plain": [
       "\u001b[1m Total params: \u001b[0m\u001b[38;5;34m373,913\u001b[0m (1.43 MB)\n"
      ]
     },
     "metadata": {},
     "output_type": "display_data"
    },
    {
     "data": {
      "text/html": [
       "<pre style=\"white-space:pre;overflow-x:auto;line-height:normal;font-family:Menlo,'DejaVu Sans Mono',consolas,'Courier New',monospace\"><span style=\"font-weight: bold\"> Trainable params: </span><span style=\"color: #00af00; text-decoration-color: #00af00\">124,637</span> (486.86 KB)\n",
       "</pre>\n"
      ],
      "text/plain": [
       "\u001b[1m Trainable params: \u001b[0m\u001b[38;5;34m124,637\u001b[0m (486.86 KB)\n"
      ]
     },
     "metadata": {},
     "output_type": "display_data"
    },
    {
     "data": {
      "text/html": [
       "<pre style=\"white-space:pre;overflow-x:auto;line-height:normal;font-family:Menlo,'DejaVu Sans Mono',consolas,'Courier New',monospace\"><span style=\"font-weight: bold\"> Non-trainable params: </span><span style=\"color: #00af00; text-decoration-color: #00af00\">0</span> (0.00 B)\n",
       "</pre>\n"
      ],
      "text/plain": [
       "\u001b[1m Non-trainable params: \u001b[0m\u001b[38;5;34m0\u001b[0m (0.00 B)\n"
      ]
     },
     "metadata": {},
     "output_type": "display_data"
    },
    {
     "data": {
      "text/html": [
       "<pre style=\"white-space:pre;overflow-x:auto;line-height:normal;font-family:Menlo,'DejaVu Sans Mono',consolas,'Courier New',monospace\"><span style=\"font-weight: bold\"> Optimizer params: </span><span style=\"color: #00af00; text-decoration-color: #00af00\">249,276</span> (973.74 KB)\n",
       "</pre>\n"
      ],
      "text/plain": [
       "\u001b[1m Optimizer params: \u001b[0m\u001b[38;5;34m249,276\u001b[0m (973.74 KB)\n"
      ]
     },
     "metadata": {},
     "output_type": "display_data"
    },
    {
     "name": "stdout",
     "output_type": "stream",
     "text": [
      "None\n"
     ]
    },
    {
     "data": {
      "text/html": [
       "<pre style=\"white-space:pre;overflow-x:auto;line-height:normal;font-family:Menlo,'DejaVu Sans Mono',consolas,'Courier New',monospace\"><span style=\"font-weight: bold\">Model: \"functional\"</span>\n",
       "</pre>\n"
      ],
      "text/plain": [
       "\u001b[1mModel: \"functional\"\u001b[0m\n"
      ]
     },
     "metadata": {},
     "output_type": "display_data"
    },
    {
     "data": {
      "text/html": [
       "<pre style=\"white-space:pre;overflow-x:auto;line-height:normal;font-family:Menlo,'DejaVu Sans Mono',consolas,'Courier New',monospace\">┏━━━━━━━━━━━━━━━━━━━━━┳━━━━━━━━━━━━━━━━━━━┳━━━━━━━━━━━━┳━━━━━━━━━━━━━━━━━━━┓\n",
       "┃<span style=\"font-weight: bold\"> Layer (type)        </span>┃<span style=\"font-weight: bold\"> Output Shape      </span>┃<span style=\"font-weight: bold\">    Param # </span>┃<span style=\"font-weight: bold\"> Connected to      </span>┃\n",
       "┡━━━━━━━━━━━━━━━━━━━━━╇━━━━━━━━━━━━━━━━━━━╇━━━━━━━━━━━━╇━━━━━━━━━━━━━━━━━━━┩\n",
       "│ input_layer         │ (<span style=\"color: #00d7ff; text-decoration-color: #00d7ff\">None</span>, <span style=\"color: #00af00; text-decoration-color: #00af00\">31</span>, <span style=\"color: #00af00; text-decoration-color: #00af00\">300</span>)   │          <span style=\"color: #00af00; text-decoration-color: #00af00\">0</span> │ -                 │\n",
       "│ (<span style=\"color: #0087ff; text-decoration-color: #0087ff\">InputLayer</span>)        │                   │            │                   │\n",
       "├─────────────────────┼───────────────────┼────────────┼───────────────────┤\n",
       "│ bidirectional       │ (<span style=\"color: #00d7ff; text-decoration-color: #00d7ff\">None</span>, <span style=\"color: #00af00; text-decoration-color: #00af00\">31</span>, <span style=\"color: #00af00; text-decoration-color: #00af00\">60</span>)    │     <span style=\"color: #00af00; text-decoration-color: #00af00\">79,440</span> │ input_layer[<span style=\"color: #00af00; text-decoration-color: #00af00\">0</span>][<span style=\"color: #00af00; text-decoration-color: #00af00\">0</span>] │\n",
       "│ (<span style=\"color: #0087ff; text-decoration-color: #0087ff\">Bidirectional</span>)     │                   │            │                   │\n",
       "├─────────────────────┼───────────────────┼────────────┼───────────────────┤\n",
       "│ flatten (<span style=\"color: #0087ff; text-decoration-color: #0087ff\">Flatten</span>)   │ (<span style=\"color: #00d7ff; text-decoration-color: #00d7ff\">None</span>, <span style=\"color: #00af00; text-decoration-color: #00af00\">1860</span>)      │          <span style=\"color: #00af00; text-decoration-color: #00af00\">0</span> │ bidirectional[<span style=\"color: #00af00; text-decoration-color: #00af00\">0</span>]… │\n",
       "├─────────────────────┼───────────────────┼────────────┼───────────────────┤\n",
       "│ dense (<span style=\"color: #0087ff; text-decoration-color: #0087ff\">Dense</span>)       │ (<span style=\"color: #00d7ff; text-decoration-color: #00d7ff\">None</span>, <span style=\"color: #00af00; text-decoration-color: #00af00\">12</span>)        │     <span style=\"color: #00af00; text-decoration-color: #00af00\">22,332</span> │ flatten[<span style=\"color: #00af00; text-decoration-color: #00af00\">0</span>][<span style=\"color: #00af00; text-decoration-color: #00af00\">0</span>]     │\n",
       "├─────────────────────┼───────────────────┼────────────┼───────────────────┤\n",
       "│ dense_3 (<span style=\"color: #0087ff; text-decoration-color: #0087ff\">Dense</span>)     │ (<span style=\"color: #00d7ff; text-decoration-color: #00d7ff\">None</span>, <span style=\"color: #00af00; text-decoration-color: #00af00\">12</span>)        │     <span style=\"color: #00af00; text-decoration-color: #00af00\">22,332</span> │ flatten[<span style=\"color: #00af00; text-decoration-color: #00af00\">0</span>][<span style=\"color: #00af00; text-decoration-color: #00af00\">0</span>]     │\n",
       "├─────────────────────┼───────────────────┼────────────┼───────────────────┤\n",
       "│ dropout (<span style=\"color: #0087ff; text-decoration-color: #0087ff\">Dropout</span>)   │ (<span style=\"color: #00d7ff; text-decoration-color: #00d7ff\">None</span>, <span style=\"color: #00af00; text-decoration-color: #00af00\">12</span>)        │          <span style=\"color: #00af00; text-decoration-color: #00af00\">0</span> │ dense[<span style=\"color: #00af00; text-decoration-color: #00af00\">0</span>][<span style=\"color: #00af00; text-decoration-color: #00af00\">0</span>]       │\n",
       "├─────────────────────┼───────────────────┼────────────┼───────────────────┤\n",
       "│ dropout_3 (<span style=\"color: #0087ff; text-decoration-color: #0087ff\">Dropout</span>) │ (<span style=\"color: #00d7ff; text-decoration-color: #00d7ff\">None</span>, <span style=\"color: #00af00; text-decoration-color: #00af00\">12</span>)        │          <span style=\"color: #00af00; text-decoration-color: #00af00\">0</span> │ dense_3[<span style=\"color: #00af00; text-decoration-color: #00af00\">0</span>][<span style=\"color: #00af00; text-decoration-color: #00af00\">0</span>]     │\n",
       "├─────────────────────┼───────────────────┼────────────┼───────────────────┤\n",
       "│ dense_1 (<span style=\"color: #0087ff; text-decoration-color: #0087ff\">Dense</span>)     │ (<span style=\"color: #00d7ff; text-decoration-color: #00d7ff\">None</span>, <span style=\"color: #00af00; text-decoration-color: #00af00\">8</span>)         │        <span style=\"color: #00af00; text-decoration-color: #00af00\">104</span> │ dropout[<span style=\"color: #00af00; text-decoration-color: #00af00\">0</span>][<span style=\"color: #00af00; text-decoration-color: #00af00\">0</span>]     │\n",
       "├─────────────────────┼───────────────────┼────────────┼───────────────────┤\n",
       "│ dense_4 (<span style=\"color: #0087ff; text-decoration-color: #0087ff\">Dense</span>)     │ (<span style=\"color: #00d7ff; text-decoration-color: #00d7ff\">None</span>, <span style=\"color: #00af00; text-decoration-color: #00af00\">8</span>)         │        <span style=\"color: #00af00; text-decoration-color: #00af00\">104</span> │ dropout_3[<span style=\"color: #00af00; text-decoration-color: #00af00\">0</span>][<span style=\"color: #00af00; text-decoration-color: #00af00\">0</span>]   │\n",
       "├─────────────────────┼───────────────────┼────────────┼───────────────────┤\n",
       "│ dropout_1 (<span style=\"color: #0087ff; text-decoration-color: #0087ff\">Dropout</span>) │ (<span style=\"color: #00d7ff; text-decoration-color: #00d7ff\">None</span>, <span style=\"color: #00af00; text-decoration-color: #00af00\">8</span>)         │          <span style=\"color: #00af00; text-decoration-color: #00af00\">0</span> │ dense_1[<span style=\"color: #00af00; text-decoration-color: #00af00\">0</span>][<span style=\"color: #00af00; text-decoration-color: #00af00\">0</span>]     │\n",
       "├─────────────────────┼───────────────────┼────────────┼───────────────────┤\n",
       "│ dropout_4 (<span style=\"color: #0087ff; text-decoration-color: #0087ff\">Dropout</span>) │ (<span style=\"color: #00d7ff; text-decoration-color: #00d7ff\">None</span>, <span style=\"color: #00af00; text-decoration-color: #00af00\">8</span>)         │          <span style=\"color: #00af00; text-decoration-color: #00af00\">0</span> │ dense_4[<span style=\"color: #00af00; text-decoration-color: #00af00\">0</span>][<span style=\"color: #00af00; text-decoration-color: #00af00\">0</span>]     │\n",
       "├─────────────────────┼───────────────────┼────────────┼───────────────────┤\n",
       "│ dense_2 (<span style=\"color: #0087ff; text-decoration-color: #0087ff\">Dense</span>)     │ (<span style=\"color: #00d7ff; text-decoration-color: #00d7ff\">None</span>, <span style=\"color: #00af00; text-decoration-color: #00af00\">8</span>)         │         <span style=\"color: #00af00; text-decoration-color: #00af00\">72</span> │ dropout_1[<span style=\"color: #00af00; text-decoration-color: #00af00\">0</span>][<span style=\"color: #00af00; text-decoration-color: #00af00\">0</span>]   │\n",
       "├─────────────────────┼───────────────────┼────────────┼───────────────────┤\n",
       "│ dense_5 (<span style=\"color: #0087ff; text-decoration-color: #0087ff\">Dense</span>)     │ (<span style=\"color: #00d7ff; text-decoration-color: #00d7ff\">None</span>, <span style=\"color: #00af00; text-decoration-color: #00af00\">8</span>)         │         <span style=\"color: #00af00; text-decoration-color: #00af00\">72</span> │ dropout_4[<span style=\"color: #00af00; text-decoration-color: #00af00\">0</span>][<span style=\"color: #00af00; text-decoration-color: #00af00\">0</span>]   │\n",
       "├─────────────────────┼───────────────────┼────────────┼───────────────────┤\n",
       "│ dropout_2 (<span style=\"color: #0087ff; text-decoration-color: #0087ff\">Dropout</span>) │ (<span style=\"color: #00d7ff; text-decoration-color: #00d7ff\">None</span>, <span style=\"color: #00af00; text-decoration-color: #00af00\">8</span>)         │          <span style=\"color: #00af00; text-decoration-color: #00af00\">0</span> │ dense_2[<span style=\"color: #00af00; text-decoration-color: #00af00\">0</span>][<span style=\"color: #00af00; text-decoration-color: #00af00\">0</span>]     │\n",
       "├─────────────────────┼───────────────────┼────────────┼───────────────────┤\n",
       "│ dropout_5 (<span style=\"color: #0087ff; text-decoration-color: #0087ff\">Dropout</span>) │ (<span style=\"color: #00d7ff; text-decoration-color: #00d7ff\">None</span>, <span style=\"color: #00af00; text-decoration-color: #00af00\">8</span>)         │          <span style=\"color: #00af00; text-decoration-color: #00af00\">0</span> │ dense_5[<span style=\"color: #00af00; text-decoration-color: #00af00\">0</span>][<span style=\"color: #00af00; text-decoration-color: #00af00\">0</span>]     │\n",
       "├─────────────────────┼───────────────────┼────────────┼───────────────────┤\n",
       "│ concatenate         │ (<span style=\"color: #00d7ff; text-decoration-color: #00d7ff\">None</span>, <span style=\"color: #00af00; text-decoration-color: #00af00\">16</span>)        │          <span style=\"color: #00af00; text-decoration-color: #00af00\">0</span> │ dropout_2[<span style=\"color: #00af00; text-decoration-color: #00af00\">0</span>][<span style=\"color: #00af00; text-decoration-color: #00af00\">0</span>],  │\n",
       "│ (<span style=\"color: #0087ff; text-decoration-color: #0087ff\">Concatenate</span>)       │                   │            │ dropout_5[<span style=\"color: #00af00; text-decoration-color: #00af00\">0</span>][<span style=\"color: #00af00; text-decoration-color: #00af00\">0</span>]   │\n",
       "├─────────────────────┼───────────────────┼────────────┼───────────────────┤\n",
       "│ dense_6 (<span style=\"color: #0087ff; text-decoration-color: #0087ff\">Dense</span>)     │ (<span style=\"color: #00d7ff; text-decoration-color: #00d7ff\">None</span>, <span style=\"color: #00af00; text-decoration-color: #00af00\">10</span>)        │        <span style=\"color: #00af00; text-decoration-color: #00af00\">170</span> │ concatenate[<span style=\"color: #00af00; text-decoration-color: #00af00\">0</span>][<span style=\"color: #00af00; text-decoration-color: #00af00\">0</span>] │\n",
       "├─────────────────────┼───────────────────┼────────────┼───────────────────┤\n",
       "│ dropout_6 (<span style=\"color: #0087ff; text-decoration-color: #0087ff\">Dropout</span>) │ (<span style=\"color: #00d7ff; text-decoration-color: #00d7ff\">None</span>, <span style=\"color: #00af00; text-decoration-color: #00af00\">10</span>)        │          <span style=\"color: #00af00; text-decoration-color: #00af00\">0</span> │ dense_6[<span style=\"color: #00af00; text-decoration-color: #00af00\">0</span>][<span style=\"color: #00af00; text-decoration-color: #00af00\">0</span>]     │\n",
       "├─────────────────────┼───────────────────┼────────────┼───────────────────┤\n",
       "│ dense_7 (<span style=\"color: #0087ff; text-decoration-color: #0087ff\">Dense</span>)     │ (<span style=\"color: #00d7ff; text-decoration-color: #00d7ff\">None</span>, <span style=\"color: #00af00; text-decoration-color: #00af00\">1</span>)         │         <span style=\"color: #00af00; text-decoration-color: #00af00\">11</span> │ dropout_6[<span style=\"color: #00af00; text-decoration-color: #00af00\">0</span>][<span style=\"color: #00af00; text-decoration-color: #00af00\">0</span>]   │\n",
       "└─────────────────────┴───────────────────┴────────────┴───────────────────┘\n",
       "</pre>\n"
      ],
      "text/plain": [
       "┏━━━━━━━━━━━━━━━━━━━━━┳━━━━━━━━━━━━━━━━━━━┳━━━━━━━━━━━━┳━━━━━━━━━━━━━━━━━━━┓\n",
       "┃\u001b[1m \u001b[0m\u001b[1mLayer (type)       \u001b[0m\u001b[1m \u001b[0m┃\u001b[1m \u001b[0m\u001b[1mOutput Shape     \u001b[0m\u001b[1m \u001b[0m┃\u001b[1m \u001b[0m\u001b[1m   Param #\u001b[0m\u001b[1m \u001b[0m┃\u001b[1m \u001b[0m\u001b[1mConnected to     \u001b[0m\u001b[1m \u001b[0m┃\n",
       "┡━━━━━━━━━━━━━━━━━━━━━╇━━━━━━━━━━━━━━━━━━━╇━━━━━━━━━━━━╇━━━━━━━━━━━━━━━━━━━┩\n",
       "│ input_layer         │ (\u001b[38;5;45mNone\u001b[0m, \u001b[38;5;34m31\u001b[0m, \u001b[38;5;34m300\u001b[0m)   │          \u001b[38;5;34m0\u001b[0m │ -                 │\n",
       "│ (\u001b[38;5;33mInputLayer\u001b[0m)        │                   │            │                   │\n",
       "├─────────────────────┼───────────────────┼────────────┼───────────────────┤\n",
       "│ bidirectional       │ (\u001b[38;5;45mNone\u001b[0m, \u001b[38;5;34m31\u001b[0m, \u001b[38;5;34m60\u001b[0m)    │     \u001b[38;5;34m79,440\u001b[0m │ input_layer[\u001b[38;5;34m0\u001b[0m][\u001b[38;5;34m0\u001b[0m] │\n",
       "│ (\u001b[38;5;33mBidirectional\u001b[0m)     │                   │            │                   │\n",
       "├─────────────────────┼───────────────────┼────────────┼───────────────────┤\n",
       "│ flatten (\u001b[38;5;33mFlatten\u001b[0m)   │ (\u001b[38;5;45mNone\u001b[0m, \u001b[38;5;34m1860\u001b[0m)      │          \u001b[38;5;34m0\u001b[0m │ bidirectional[\u001b[38;5;34m0\u001b[0m]… │\n",
       "├─────────────────────┼───────────────────┼────────────┼───────────────────┤\n",
       "│ dense (\u001b[38;5;33mDense\u001b[0m)       │ (\u001b[38;5;45mNone\u001b[0m, \u001b[38;5;34m12\u001b[0m)        │     \u001b[38;5;34m22,332\u001b[0m │ flatten[\u001b[38;5;34m0\u001b[0m][\u001b[38;5;34m0\u001b[0m]     │\n",
       "├─────────────────────┼───────────────────┼────────────┼───────────────────┤\n",
       "│ dense_3 (\u001b[38;5;33mDense\u001b[0m)     │ (\u001b[38;5;45mNone\u001b[0m, \u001b[38;5;34m12\u001b[0m)        │     \u001b[38;5;34m22,332\u001b[0m │ flatten[\u001b[38;5;34m0\u001b[0m][\u001b[38;5;34m0\u001b[0m]     │\n",
       "├─────────────────────┼───────────────────┼────────────┼───────────────────┤\n",
       "│ dropout (\u001b[38;5;33mDropout\u001b[0m)   │ (\u001b[38;5;45mNone\u001b[0m, \u001b[38;5;34m12\u001b[0m)        │          \u001b[38;5;34m0\u001b[0m │ dense[\u001b[38;5;34m0\u001b[0m][\u001b[38;5;34m0\u001b[0m]       │\n",
       "├─────────────────────┼───────────────────┼────────────┼───────────────────┤\n",
       "│ dropout_3 (\u001b[38;5;33mDropout\u001b[0m) │ (\u001b[38;5;45mNone\u001b[0m, \u001b[38;5;34m12\u001b[0m)        │          \u001b[38;5;34m0\u001b[0m │ dense_3[\u001b[38;5;34m0\u001b[0m][\u001b[38;5;34m0\u001b[0m]     │\n",
       "├─────────────────────┼───────────────────┼────────────┼───────────────────┤\n",
       "│ dense_1 (\u001b[38;5;33mDense\u001b[0m)     │ (\u001b[38;5;45mNone\u001b[0m, \u001b[38;5;34m8\u001b[0m)         │        \u001b[38;5;34m104\u001b[0m │ dropout[\u001b[38;5;34m0\u001b[0m][\u001b[38;5;34m0\u001b[0m]     │\n",
       "├─────────────────────┼───────────────────┼────────────┼───────────────────┤\n",
       "│ dense_4 (\u001b[38;5;33mDense\u001b[0m)     │ (\u001b[38;5;45mNone\u001b[0m, \u001b[38;5;34m8\u001b[0m)         │        \u001b[38;5;34m104\u001b[0m │ dropout_3[\u001b[38;5;34m0\u001b[0m][\u001b[38;5;34m0\u001b[0m]   │\n",
       "├─────────────────────┼───────────────────┼────────────┼───────────────────┤\n",
       "│ dropout_1 (\u001b[38;5;33mDropout\u001b[0m) │ (\u001b[38;5;45mNone\u001b[0m, \u001b[38;5;34m8\u001b[0m)         │          \u001b[38;5;34m0\u001b[0m │ dense_1[\u001b[38;5;34m0\u001b[0m][\u001b[38;5;34m0\u001b[0m]     │\n",
       "├─────────────────────┼───────────────────┼────────────┼───────────────────┤\n",
       "│ dropout_4 (\u001b[38;5;33mDropout\u001b[0m) │ (\u001b[38;5;45mNone\u001b[0m, \u001b[38;5;34m8\u001b[0m)         │          \u001b[38;5;34m0\u001b[0m │ dense_4[\u001b[38;5;34m0\u001b[0m][\u001b[38;5;34m0\u001b[0m]     │\n",
       "├─────────────────────┼───────────────────┼────────────┼───────────────────┤\n",
       "│ dense_2 (\u001b[38;5;33mDense\u001b[0m)     │ (\u001b[38;5;45mNone\u001b[0m, \u001b[38;5;34m8\u001b[0m)         │         \u001b[38;5;34m72\u001b[0m │ dropout_1[\u001b[38;5;34m0\u001b[0m][\u001b[38;5;34m0\u001b[0m]   │\n",
       "├─────────────────────┼───────────────────┼────────────┼───────────────────┤\n",
       "│ dense_5 (\u001b[38;5;33mDense\u001b[0m)     │ (\u001b[38;5;45mNone\u001b[0m, \u001b[38;5;34m8\u001b[0m)         │         \u001b[38;5;34m72\u001b[0m │ dropout_4[\u001b[38;5;34m0\u001b[0m][\u001b[38;5;34m0\u001b[0m]   │\n",
       "├─────────────────────┼───────────────────┼────────────┼───────────────────┤\n",
       "│ dropout_2 (\u001b[38;5;33mDropout\u001b[0m) │ (\u001b[38;5;45mNone\u001b[0m, \u001b[38;5;34m8\u001b[0m)         │          \u001b[38;5;34m0\u001b[0m │ dense_2[\u001b[38;5;34m0\u001b[0m][\u001b[38;5;34m0\u001b[0m]     │\n",
       "├─────────────────────┼───────────────────┼────────────┼───────────────────┤\n",
       "│ dropout_5 (\u001b[38;5;33mDropout\u001b[0m) │ (\u001b[38;5;45mNone\u001b[0m, \u001b[38;5;34m8\u001b[0m)         │          \u001b[38;5;34m0\u001b[0m │ dense_5[\u001b[38;5;34m0\u001b[0m][\u001b[38;5;34m0\u001b[0m]     │\n",
       "├─────────────────────┼───────────────────┼────────────┼───────────────────┤\n",
       "│ concatenate         │ (\u001b[38;5;45mNone\u001b[0m, \u001b[38;5;34m16\u001b[0m)        │          \u001b[38;5;34m0\u001b[0m │ dropout_2[\u001b[38;5;34m0\u001b[0m][\u001b[38;5;34m0\u001b[0m],  │\n",
       "│ (\u001b[38;5;33mConcatenate\u001b[0m)       │                   │            │ dropout_5[\u001b[38;5;34m0\u001b[0m][\u001b[38;5;34m0\u001b[0m]   │\n",
       "├─────────────────────┼───────────────────┼────────────┼───────────────────┤\n",
       "│ dense_6 (\u001b[38;5;33mDense\u001b[0m)     │ (\u001b[38;5;45mNone\u001b[0m, \u001b[38;5;34m10\u001b[0m)        │        \u001b[38;5;34m170\u001b[0m │ concatenate[\u001b[38;5;34m0\u001b[0m][\u001b[38;5;34m0\u001b[0m] │\n",
       "├─────────────────────┼───────────────────┼────────────┼───────────────────┤\n",
       "│ dropout_6 (\u001b[38;5;33mDropout\u001b[0m) │ (\u001b[38;5;45mNone\u001b[0m, \u001b[38;5;34m10\u001b[0m)        │          \u001b[38;5;34m0\u001b[0m │ dense_6[\u001b[38;5;34m0\u001b[0m][\u001b[38;5;34m0\u001b[0m]     │\n",
       "├─────────────────────┼───────────────────┼────────────┼───────────────────┤\n",
       "│ dense_7 (\u001b[38;5;33mDense\u001b[0m)     │ (\u001b[38;5;45mNone\u001b[0m, \u001b[38;5;34m1\u001b[0m)         │         \u001b[38;5;34m11\u001b[0m │ dropout_6[\u001b[38;5;34m0\u001b[0m][\u001b[38;5;34m0\u001b[0m]   │\n",
       "└─────────────────────┴───────────────────┴────────────┴───────────────────┘\n"
      ]
     },
     "metadata": {},
     "output_type": "display_data"
    },
    {
     "data": {
      "text/html": [
       "<pre style=\"white-space:pre;overflow-x:auto;line-height:normal;font-family:Menlo,'DejaVu Sans Mono',consolas,'Courier New',monospace\"><span style=\"font-weight: bold\"> Total params: </span><span style=\"color: #00af00; text-decoration-color: #00af00\">373,913</span> (1.43 MB)\n",
       "</pre>\n"
      ],
      "text/plain": [
       "\u001b[1m Total params: \u001b[0m\u001b[38;5;34m373,913\u001b[0m (1.43 MB)\n"
      ]
     },
     "metadata": {},
     "output_type": "display_data"
    },
    {
     "data": {
      "text/html": [
       "<pre style=\"white-space:pre;overflow-x:auto;line-height:normal;font-family:Menlo,'DejaVu Sans Mono',consolas,'Courier New',monospace\"><span style=\"font-weight: bold\"> Trainable params: </span><span style=\"color: #00af00; text-decoration-color: #00af00\">124,637</span> (486.86 KB)\n",
       "</pre>\n"
      ],
      "text/plain": [
       "\u001b[1m Trainable params: \u001b[0m\u001b[38;5;34m124,637\u001b[0m (486.86 KB)\n"
      ]
     },
     "metadata": {},
     "output_type": "display_data"
    },
    {
     "data": {
      "text/html": [
       "<pre style=\"white-space:pre;overflow-x:auto;line-height:normal;font-family:Menlo,'DejaVu Sans Mono',consolas,'Courier New',monospace\"><span style=\"font-weight: bold\"> Non-trainable params: </span><span style=\"color: #00af00; text-decoration-color: #00af00\">0</span> (0.00 B)\n",
       "</pre>\n"
      ],
      "text/plain": [
       "\u001b[1m Non-trainable params: \u001b[0m\u001b[38;5;34m0\u001b[0m (0.00 B)\n"
      ]
     },
     "metadata": {},
     "output_type": "display_data"
    },
    {
     "data": {
      "text/html": [
       "<pre style=\"white-space:pre;overflow-x:auto;line-height:normal;font-family:Menlo,'DejaVu Sans Mono',consolas,'Courier New',monospace\"><span style=\"font-weight: bold\"> Optimizer params: </span><span style=\"color: #00af00; text-decoration-color: #00af00\">249,276</span> (973.74 KB)\n",
       "</pre>\n"
      ],
      "text/plain": [
       "\u001b[1m Optimizer params: \u001b[0m\u001b[38;5;34m249,276\u001b[0m (973.74 KB)\n"
      ]
     },
     "metadata": {},
     "output_type": "display_data"
    },
    {
     "name": "stdout",
     "output_type": "stream",
     "text": [
      "None\n"
     ]
    },
    {
     "data": {
      "text/html": [
       "<pre style=\"white-space:pre;overflow-x:auto;line-height:normal;font-family:Menlo,'DejaVu Sans Mono',consolas,'Courier New',monospace\"><span style=\"font-weight: bold\">Model: \"sequential\"</span>\n",
       "</pre>\n"
      ],
      "text/plain": [
       "\u001b[1mModel: \"sequential\"\u001b[0m\n"
      ]
     },
     "metadata": {},
     "output_type": "display_data"
    },
    {
     "data": {
      "text/html": [
       "<pre style=\"white-space:pre;overflow-x:auto;line-height:normal;font-family:Menlo,'DejaVu Sans Mono',consolas,'Courier New',monospace\">┏━━━━━━━━━━━━━━━━━━━━━━━━━━━━━━━━━┳━━━━━━━━━━━━━━━━━━━━━━━━┳━━━━━━━━━━━━━━━┓\n",
       "┃<span style=\"font-weight: bold\"> Layer (type)                    </span>┃<span style=\"font-weight: bold\"> Output Shape           </span>┃<span style=\"font-weight: bold\">       Param # </span>┃\n",
       "┡━━━━━━━━━━━━━━━━━━━━━━━━━━━━━━━━━╇━━━━━━━━━━━━━━━━━━━━━━━━╇━━━━━━━━━━━━━━━┩\n",
       "│ bidirectional_1 (<span style=\"color: #0087ff; text-decoration-color: #0087ff\">Bidirectional</span>) │ (<span style=\"color: #00d7ff; text-decoration-color: #00d7ff\">None</span>, <span style=\"color: #00af00; text-decoration-color: #00af00\">31</span>, <span style=\"color: #00af00; text-decoration-color: #00af00\">60</span>)         │        <span style=\"color: #00af00; text-decoration-color: #00af00\">79,440</span> │\n",
       "├─────────────────────────────────┼────────────────────────┼───────────────┤\n",
       "│ flatten_1 (<span style=\"color: #0087ff; text-decoration-color: #0087ff\">Flatten</span>)             │ (<span style=\"color: #00d7ff; text-decoration-color: #00d7ff\">None</span>, <span style=\"color: #00af00; text-decoration-color: #00af00\">1860</span>)           │             <span style=\"color: #00af00; text-decoration-color: #00af00\">0</span> │\n",
       "├─────────────────────────────────┼────────────────────────┼───────────────┤\n",
       "│ dense_8 (<span style=\"color: #0087ff; text-decoration-color: #0087ff\">Dense</span>)                 │ (<span style=\"color: #00d7ff; text-decoration-color: #00d7ff\">None</span>, <span style=\"color: #00af00; text-decoration-color: #00af00\">24</span>)             │        <span style=\"color: #00af00; text-decoration-color: #00af00\">44,664</span> │\n",
       "├─────────────────────────────────┼────────────────────────┼───────────────┤\n",
       "│ dropout_7 (<span style=\"color: #0087ff; text-decoration-color: #0087ff\">Dropout</span>)             │ (<span style=\"color: #00d7ff; text-decoration-color: #00d7ff\">None</span>, <span style=\"color: #00af00; text-decoration-color: #00af00\">24</span>)             │             <span style=\"color: #00af00; text-decoration-color: #00af00\">0</span> │\n",
       "├─────────────────────────────────┼────────────────────────┼───────────────┤\n",
       "│ dense_9 (<span style=\"color: #0087ff; text-decoration-color: #0087ff\">Dense</span>)                 │ (<span style=\"color: #00d7ff; text-decoration-color: #00d7ff\">None</span>, <span style=\"color: #00af00; text-decoration-color: #00af00\">16</span>)             │           <span style=\"color: #00af00; text-decoration-color: #00af00\">400</span> │\n",
       "├─────────────────────────────────┼────────────────────────┼───────────────┤\n",
       "│ dropout_8 (<span style=\"color: #0087ff; text-decoration-color: #0087ff\">Dropout</span>)             │ (<span style=\"color: #00d7ff; text-decoration-color: #00d7ff\">None</span>, <span style=\"color: #00af00; text-decoration-color: #00af00\">16</span>)             │             <span style=\"color: #00af00; text-decoration-color: #00af00\">0</span> │\n",
       "├─────────────────────────────────┼────────────────────────┼───────────────┤\n",
       "│ dense_10 (<span style=\"color: #0087ff; text-decoration-color: #0087ff\">Dense</span>)                │ (<span style=\"color: #00d7ff; text-decoration-color: #00d7ff\">None</span>, <span style=\"color: #00af00; text-decoration-color: #00af00\">16</span>)             │           <span style=\"color: #00af00; text-decoration-color: #00af00\">272</span> │\n",
       "├─────────────────────────────────┼────────────────────────┼───────────────┤\n",
       "│ dropout_9 (<span style=\"color: #0087ff; text-decoration-color: #0087ff\">Dropout</span>)             │ (<span style=\"color: #00d7ff; text-decoration-color: #00d7ff\">None</span>, <span style=\"color: #00af00; text-decoration-color: #00af00\">16</span>)             │             <span style=\"color: #00af00; text-decoration-color: #00af00\">0</span> │\n",
       "├─────────────────────────────────┼────────────────────────┼───────────────┤\n",
       "│ dense_11 (<span style=\"color: #0087ff; text-decoration-color: #0087ff\">Dense</span>)                │ (<span style=\"color: #00d7ff; text-decoration-color: #00d7ff\">None</span>, <span style=\"color: #00af00; text-decoration-color: #00af00\">10</span>)             │           <span style=\"color: #00af00; text-decoration-color: #00af00\">170</span> │\n",
       "├─────────────────────────────────┼────────────────────────┼───────────────┤\n",
       "│ dropout_10 (<span style=\"color: #0087ff; text-decoration-color: #0087ff\">Dropout</span>)            │ (<span style=\"color: #00d7ff; text-decoration-color: #00d7ff\">None</span>, <span style=\"color: #00af00; text-decoration-color: #00af00\">10</span>)             │             <span style=\"color: #00af00; text-decoration-color: #00af00\">0</span> │\n",
       "├─────────────────────────────────┼────────────────────────┼───────────────┤\n",
       "│ dense_12 (<span style=\"color: #0087ff; text-decoration-color: #0087ff\">Dense</span>)                │ (<span style=\"color: #00d7ff; text-decoration-color: #00d7ff\">None</span>, <span style=\"color: #00af00; text-decoration-color: #00af00\">1</span>)              │            <span style=\"color: #00af00; text-decoration-color: #00af00\">11</span> │\n",
       "└─────────────────────────────────┴────────────────────────┴───────────────┘\n",
       "</pre>\n"
      ],
      "text/plain": [
       "┏━━━━━━━━━━━━━━━━━━━━━━━━━━━━━━━━━┳━━━━━━━━━━━━━━━━━━━━━━━━┳━━━━━━━━━━━━━━━┓\n",
       "┃\u001b[1m \u001b[0m\u001b[1mLayer (type)                   \u001b[0m\u001b[1m \u001b[0m┃\u001b[1m \u001b[0m\u001b[1mOutput Shape          \u001b[0m\u001b[1m \u001b[0m┃\u001b[1m \u001b[0m\u001b[1m      Param #\u001b[0m\u001b[1m \u001b[0m┃\n",
       "┡━━━━━━━━━━━━━━━━━━━━━━━━━━━━━━━━━╇━━━━━━━━━━━━━━━━━━━━━━━━╇━━━━━━━━━━━━━━━┩\n",
       "│ bidirectional_1 (\u001b[38;5;33mBidirectional\u001b[0m) │ (\u001b[38;5;45mNone\u001b[0m, \u001b[38;5;34m31\u001b[0m, \u001b[38;5;34m60\u001b[0m)         │        \u001b[38;5;34m79,440\u001b[0m │\n",
       "├─────────────────────────────────┼────────────────────────┼───────────────┤\n",
       "│ flatten_1 (\u001b[38;5;33mFlatten\u001b[0m)             │ (\u001b[38;5;45mNone\u001b[0m, \u001b[38;5;34m1860\u001b[0m)           │             \u001b[38;5;34m0\u001b[0m │\n",
       "├─────────────────────────────────┼────────────────────────┼───────────────┤\n",
       "│ dense_8 (\u001b[38;5;33mDense\u001b[0m)                 │ (\u001b[38;5;45mNone\u001b[0m, \u001b[38;5;34m24\u001b[0m)             │        \u001b[38;5;34m44,664\u001b[0m │\n",
       "├─────────────────────────────────┼────────────────────────┼───────────────┤\n",
       "│ dropout_7 (\u001b[38;5;33mDropout\u001b[0m)             │ (\u001b[38;5;45mNone\u001b[0m, \u001b[38;5;34m24\u001b[0m)             │             \u001b[38;5;34m0\u001b[0m │\n",
       "├─────────────────────────────────┼────────────────────────┼───────────────┤\n",
       "│ dense_9 (\u001b[38;5;33mDense\u001b[0m)                 │ (\u001b[38;5;45mNone\u001b[0m, \u001b[38;5;34m16\u001b[0m)             │           \u001b[38;5;34m400\u001b[0m │\n",
       "├─────────────────────────────────┼────────────────────────┼───────────────┤\n",
       "│ dropout_8 (\u001b[38;5;33mDropout\u001b[0m)             │ (\u001b[38;5;45mNone\u001b[0m, \u001b[38;5;34m16\u001b[0m)             │             \u001b[38;5;34m0\u001b[0m │\n",
       "├─────────────────────────────────┼────────────────────────┼───────────────┤\n",
       "│ dense_10 (\u001b[38;5;33mDense\u001b[0m)                │ (\u001b[38;5;45mNone\u001b[0m, \u001b[38;5;34m16\u001b[0m)             │           \u001b[38;5;34m272\u001b[0m │\n",
       "├─────────────────────────────────┼────────────────────────┼───────────────┤\n",
       "│ dropout_9 (\u001b[38;5;33mDropout\u001b[0m)             │ (\u001b[38;5;45mNone\u001b[0m, \u001b[38;5;34m16\u001b[0m)             │             \u001b[38;5;34m0\u001b[0m │\n",
       "├─────────────────────────────────┼────────────────────────┼───────────────┤\n",
       "│ dense_11 (\u001b[38;5;33mDense\u001b[0m)                │ (\u001b[38;5;45mNone\u001b[0m, \u001b[38;5;34m10\u001b[0m)             │           \u001b[38;5;34m170\u001b[0m │\n",
       "├─────────────────────────────────┼────────────────────────┼───────────────┤\n",
       "│ dropout_10 (\u001b[38;5;33mDropout\u001b[0m)            │ (\u001b[38;5;45mNone\u001b[0m, \u001b[38;5;34m10\u001b[0m)             │             \u001b[38;5;34m0\u001b[0m │\n",
       "├─────────────────────────────────┼────────────────────────┼───────────────┤\n",
       "│ dense_12 (\u001b[38;5;33mDense\u001b[0m)                │ (\u001b[38;5;45mNone\u001b[0m, \u001b[38;5;34m1\u001b[0m)              │            \u001b[38;5;34m11\u001b[0m │\n",
       "└─────────────────────────────────┴────────────────────────┴───────────────┘\n"
      ]
     },
     "metadata": {},
     "output_type": "display_data"
    },
    {
     "data": {
      "text/html": [
       "<pre style=\"white-space:pre;overflow-x:auto;line-height:normal;font-family:Menlo,'DejaVu Sans Mono',consolas,'Courier New',monospace\"><span style=\"font-weight: bold\"> Total params: </span><span style=\"color: #00af00; text-decoration-color: #00af00\">374,873</span> (1.43 MB)\n",
       "</pre>\n"
      ],
      "text/plain": [
       "\u001b[1m Total params: \u001b[0m\u001b[38;5;34m374,873\u001b[0m (1.43 MB)\n"
      ]
     },
     "metadata": {},
     "output_type": "display_data"
    },
    {
     "data": {
      "text/html": [
       "<pre style=\"white-space:pre;overflow-x:auto;line-height:normal;font-family:Menlo,'DejaVu Sans Mono',consolas,'Courier New',monospace\"><span style=\"font-weight: bold\"> Trainable params: </span><span style=\"color: #00af00; text-decoration-color: #00af00\">124,957</span> (488.11 KB)\n",
       "</pre>\n"
      ],
      "text/plain": [
       "\u001b[1m Trainable params: \u001b[0m\u001b[38;5;34m124,957\u001b[0m (488.11 KB)\n"
      ]
     },
     "metadata": {},
     "output_type": "display_data"
    },
    {
     "data": {
      "text/html": [
       "<pre style=\"white-space:pre;overflow-x:auto;line-height:normal;font-family:Menlo,'DejaVu Sans Mono',consolas,'Courier New',monospace\"><span style=\"font-weight: bold\"> Non-trainable params: </span><span style=\"color: #00af00; text-decoration-color: #00af00\">0</span> (0.00 B)\n",
       "</pre>\n"
      ],
      "text/plain": [
       "\u001b[1m Non-trainable params: \u001b[0m\u001b[38;5;34m0\u001b[0m (0.00 B)\n"
      ]
     },
     "metadata": {},
     "output_type": "display_data"
    },
    {
     "data": {
      "text/html": [
       "<pre style=\"white-space:pre;overflow-x:auto;line-height:normal;font-family:Menlo,'DejaVu Sans Mono',consolas,'Courier New',monospace\"><span style=\"font-weight: bold\"> Optimizer params: </span><span style=\"color: #00af00; text-decoration-color: #00af00\">249,916</span> (976.24 KB)\n",
       "</pre>\n"
      ],
      "text/plain": [
       "\u001b[1m Optimizer params: \u001b[0m\u001b[38;5;34m249,916\u001b[0m (976.24 KB)\n"
      ]
     },
     "metadata": {},
     "output_type": "display_data"
    },
    {
     "name": "stdout",
     "output_type": "stream",
     "text": [
      "None\n"
     ]
    },
    {
     "data": {
      "text/html": [
       "<pre style=\"white-space:pre;overflow-x:auto;line-height:normal;font-family:Menlo,'DejaVu Sans Mono',consolas,'Courier New',monospace\"><span style=\"font-weight: bold\">Model: \"sequential\"</span>\n",
       "</pre>\n"
      ],
      "text/plain": [
       "\u001b[1mModel: \"sequential\"\u001b[0m\n"
      ]
     },
     "metadata": {},
     "output_type": "display_data"
    },
    {
     "data": {
      "text/html": [
       "<pre style=\"white-space:pre;overflow-x:auto;line-height:normal;font-family:Menlo,'DejaVu Sans Mono',consolas,'Courier New',monospace\">┏━━━━━━━━━━━━━━━━━━━━━━━━━━━━━━━━━┳━━━━━━━━━━━━━━━━━━━━━━━━┳━━━━━━━━━━━━━━━┓\n",
       "┃<span style=\"font-weight: bold\"> Layer (type)                    </span>┃<span style=\"font-weight: bold\"> Output Shape           </span>┃<span style=\"font-weight: bold\">       Param # </span>┃\n",
       "┡━━━━━━━━━━━━━━━━━━━━━━━━━━━━━━━━━╇━━━━━━━━━━━━━━━━━━━━━━━━╇━━━━━━━━━━━━━━━┩\n",
       "│ bidirectional_1 (<span style=\"color: #0087ff; text-decoration-color: #0087ff\">Bidirectional</span>) │ (<span style=\"color: #00d7ff; text-decoration-color: #00d7ff\">None</span>, <span style=\"color: #00af00; text-decoration-color: #00af00\">31</span>, <span style=\"color: #00af00; text-decoration-color: #00af00\">60</span>)         │        <span style=\"color: #00af00; text-decoration-color: #00af00\">79,440</span> │\n",
       "├─────────────────────────────────┼────────────────────────┼───────────────┤\n",
       "│ flatten_1 (<span style=\"color: #0087ff; text-decoration-color: #0087ff\">Flatten</span>)             │ (<span style=\"color: #00d7ff; text-decoration-color: #00d7ff\">None</span>, <span style=\"color: #00af00; text-decoration-color: #00af00\">1860</span>)           │             <span style=\"color: #00af00; text-decoration-color: #00af00\">0</span> │\n",
       "├─────────────────────────────────┼────────────────────────┼───────────────┤\n",
       "│ dense_8 (<span style=\"color: #0087ff; text-decoration-color: #0087ff\">Dense</span>)                 │ (<span style=\"color: #00d7ff; text-decoration-color: #00d7ff\">None</span>, <span style=\"color: #00af00; text-decoration-color: #00af00\">24</span>)             │        <span style=\"color: #00af00; text-decoration-color: #00af00\">44,664</span> │\n",
       "├─────────────────────────────────┼────────────────────────┼───────────────┤\n",
       "│ dropout_7 (<span style=\"color: #0087ff; text-decoration-color: #0087ff\">Dropout</span>)             │ (<span style=\"color: #00d7ff; text-decoration-color: #00d7ff\">None</span>, <span style=\"color: #00af00; text-decoration-color: #00af00\">24</span>)             │             <span style=\"color: #00af00; text-decoration-color: #00af00\">0</span> │\n",
       "├─────────────────────────────────┼────────────────────────┼───────────────┤\n",
       "│ dense_9 (<span style=\"color: #0087ff; text-decoration-color: #0087ff\">Dense</span>)                 │ (<span style=\"color: #00d7ff; text-decoration-color: #00d7ff\">None</span>, <span style=\"color: #00af00; text-decoration-color: #00af00\">16</span>)             │           <span style=\"color: #00af00; text-decoration-color: #00af00\">400</span> │\n",
       "├─────────────────────────────────┼────────────────────────┼───────────────┤\n",
       "│ dropout_8 (<span style=\"color: #0087ff; text-decoration-color: #0087ff\">Dropout</span>)             │ (<span style=\"color: #00d7ff; text-decoration-color: #00d7ff\">None</span>, <span style=\"color: #00af00; text-decoration-color: #00af00\">16</span>)             │             <span style=\"color: #00af00; text-decoration-color: #00af00\">0</span> │\n",
       "├─────────────────────────────────┼────────────────────────┼───────────────┤\n",
       "│ dense_10 (<span style=\"color: #0087ff; text-decoration-color: #0087ff\">Dense</span>)                │ (<span style=\"color: #00d7ff; text-decoration-color: #00d7ff\">None</span>, <span style=\"color: #00af00; text-decoration-color: #00af00\">16</span>)             │           <span style=\"color: #00af00; text-decoration-color: #00af00\">272</span> │\n",
       "├─────────────────────────────────┼────────────────────────┼───────────────┤\n",
       "│ dropout_9 (<span style=\"color: #0087ff; text-decoration-color: #0087ff\">Dropout</span>)             │ (<span style=\"color: #00d7ff; text-decoration-color: #00d7ff\">None</span>, <span style=\"color: #00af00; text-decoration-color: #00af00\">16</span>)             │             <span style=\"color: #00af00; text-decoration-color: #00af00\">0</span> │\n",
       "├─────────────────────────────────┼────────────────────────┼───────────────┤\n",
       "│ dense_11 (<span style=\"color: #0087ff; text-decoration-color: #0087ff\">Dense</span>)                │ (<span style=\"color: #00d7ff; text-decoration-color: #00d7ff\">None</span>, <span style=\"color: #00af00; text-decoration-color: #00af00\">10</span>)             │           <span style=\"color: #00af00; text-decoration-color: #00af00\">170</span> │\n",
       "├─────────────────────────────────┼────────────────────────┼───────────────┤\n",
       "│ dropout_10 (<span style=\"color: #0087ff; text-decoration-color: #0087ff\">Dropout</span>)            │ (<span style=\"color: #00d7ff; text-decoration-color: #00d7ff\">None</span>, <span style=\"color: #00af00; text-decoration-color: #00af00\">10</span>)             │             <span style=\"color: #00af00; text-decoration-color: #00af00\">0</span> │\n",
       "├─────────────────────────────────┼────────────────────────┼───────────────┤\n",
       "│ dense_12 (<span style=\"color: #0087ff; text-decoration-color: #0087ff\">Dense</span>)                │ (<span style=\"color: #00d7ff; text-decoration-color: #00d7ff\">None</span>, <span style=\"color: #00af00; text-decoration-color: #00af00\">1</span>)              │            <span style=\"color: #00af00; text-decoration-color: #00af00\">11</span> │\n",
       "└─────────────────────────────────┴────────────────────────┴───────────────┘\n",
       "</pre>\n"
      ],
      "text/plain": [
       "┏━━━━━━━━━━━━━━━━━━━━━━━━━━━━━━━━━┳━━━━━━━━━━━━━━━━━━━━━━━━┳━━━━━━━━━━━━━━━┓\n",
       "┃\u001b[1m \u001b[0m\u001b[1mLayer (type)                   \u001b[0m\u001b[1m \u001b[0m┃\u001b[1m \u001b[0m\u001b[1mOutput Shape          \u001b[0m\u001b[1m \u001b[0m┃\u001b[1m \u001b[0m\u001b[1m      Param #\u001b[0m\u001b[1m \u001b[0m┃\n",
       "┡━━━━━━━━━━━━━━━━━━━━━━━━━━━━━━━━━╇━━━━━━━━━━━━━━━━━━━━━━━━╇━━━━━━━━━━━━━━━┩\n",
       "│ bidirectional_1 (\u001b[38;5;33mBidirectional\u001b[0m) │ (\u001b[38;5;45mNone\u001b[0m, \u001b[38;5;34m31\u001b[0m, \u001b[38;5;34m60\u001b[0m)         │        \u001b[38;5;34m79,440\u001b[0m │\n",
       "├─────────────────────────────────┼────────────────────────┼───────────────┤\n",
       "│ flatten_1 (\u001b[38;5;33mFlatten\u001b[0m)             │ (\u001b[38;5;45mNone\u001b[0m, \u001b[38;5;34m1860\u001b[0m)           │             \u001b[38;5;34m0\u001b[0m │\n",
       "├─────────────────────────────────┼────────────────────────┼───────────────┤\n",
       "│ dense_8 (\u001b[38;5;33mDense\u001b[0m)                 │ (\u001b[38;5;45mNone\u001b[0m, \u001b[38;5;34m24\u001b[0m)             │        \u001b[38;5;34m44,664\u001b[0m │\n",
       "├─────────────────────────────────┼────────────────────────┼───────────────┤\n",
       "│ dropout_7 (\u001b[38;5;33mDropout\u001b[0m)             │ (\u001b[38;5;45mNone\u001b[0m, \u001b[38;5;34m24\u001b[0m)             │             \u001b[38;5;34m0\u001b[0m │\n",
       "├─────────────────────────────────┼────────────────────────┼───────────────┤\n",
       "│ dense_9 (\u001b[38;5;33mDense\u001b[0m)                 │ (\u001b[38;5;45mNone\u001b[0m, \u001b[38;5;34m16\u001b[0m)             │           \u001b[38;5;34m400\u001b[0m │\n",
       "├─────────────────────────────────┼────────────────────────┼───────────────┤\n",
       "│ dropout_8 (\u001b[38;5;33mDropout\u001b[0m)             │ (\u001b[38;5;45mNone\u001b[0m, \u001b[38;5;34m16\u001b[0m)             │             \u001b[38;5;34m0\u001b[0m │\n",
       "├─────────────────────────────────┼────────────────────────┼───────────────┤\n",
       "│ dense_10 (\u001b[38;5;33mDense\u001b[0m)                │ (\u001b[38;5;45mNone\u001b[0m, \u001b[38;5;34m16\u001b[0m)             │           \u001b[38;5;34m272\u001b[0m │\n",
       "├─────────────────────────────────┼────────────────────────┼───────────────┤\n",
       "│ dropout_9 (\u001b[38;5;33mDropout\u001b[0m)             │ (\u001b[38;5;45mNone\u001b[0m, \u001b[38;5;34m16\u001b[0m)             │             \u001b[38;5;34m0\u001b[0m │\n",
       "├─────────────────────────────────┼────────────────────────┼───────────────┤\n",
       "│ dense_11 (\u001b[38;5;33mDense\u001b[0m)                │ (\u001b[38;5;45mNone\u001b[0m, \u001b[38;5;34m10\u001b[0m)             │           \u001b[38;5;34m170\u001b[0m │\n",
       "├─────────────────────────────────┼────────────────────────┼───────────────┤\n",
       "│ dropout_10 (\u001b[38;5;33mDropout\u001b[0m)            │ (\u001b[38;5;45mNone\u001b[0m, \u001b[38;5;34m10\u001b[0m)             │             \u001b[38;5;34m0\u001b[0m │\n",
       "├─────────────────────────────────┼────────────────────────┼───────────────┤\n",
       "│ dense_12 (\u001b[38;5;33mDense\u001b[0m)                │ (\u001b[38;5;45mNone\u001b[0m, \u001b[38;5;34m1\u001b[0m)              │            \u001b[38;5;34m11\u001b[0m │\n",
       "└─────────────────────────────────┴────────────────────────┴───────────────┘\n"
      ]
     },
     "metadata": {},
     "output_type": "display_data"
    },
    {
     "data": {
      "text/html": [
       "<pre style=\"white-space:pre;overflow-x:auto;line-height:normal;font-family:Menlo,'DejaVu Sans Mono',consolas,'Courier New',monospace\"><span style=\"font-weight: bold\"> Total params: </span><span style=\"color: #00af00; text-decoration-color: #00af00\">374,873</span> (1.43 MB)\n",
       "</pre>\n"
      ],
      "text/plain": [
       "\u001b[1m Total params: \u001b[0m\u001b[38;5;34m374,873\u001b[0m (1.43 MB)\n"
      ]
     },
     "metadata": {},
     "output_type": "display_data"
    },
    {
     "data": {
      "text/html": [
       "<pre style=\"white-space:pre;overflow-x:auto;line-height:normal;font-family:Menlo,'DejaVu Sans Mono',consolas,'Courier New',monospace\"><span style=\"font-weight: bold\"> Trainable params: </span><span style=\"color: #00af00; text-decoration-color: #00af00\">124,957</span> (488.11 KB)\n",
       "</pre>\n"
      ],
      "text/plain": [
       "\u001b[1m Trainable params: \u001b[0m\u001b[38;5;34m124,957\u001b[0m (488.11 KB)\n"
      ]
     },
     "metadata": {},
     "output_type": "display_data"
    },
    {
     "data": {
      "text/html": [
       "<pre style=\"white-space:pre;overflow-x:auto;line-height:normal;font-family:Menlo,'DejaVu Sans Mono',consolas,'Courier New',monospace\"><span style=\"font-weight: bold\"> Non-trainable params: </span><span style=\"color: #00af00; text-decoration-color: #00af00\">0</span> (0.00 B)\n",
       "</pre>\n"
      ],
      "text/plain": [
       "\u001b[1m Non-trainable params: \u001b[0m\u001b[38;5;34m0\u001b[0m (0.00 B)\n"
      ]
     },
     "metadata": {},
     "output_type": "display_data"
    },
    {
     "data": {
      "text/html": [
       "<pre style=\"white-space:pre;overflow-x:auto;line-height:normal;font-family:Menlo,'DejaVu Sans Mono',consolas,'Courier New',monospace\"><span style=\"font-weight: bold\"> Optimizer params: </span><span style=\"color: #00af00; text-decoration-color: #00af00\">249,916</span> (976.24 KB)\n",
       "</pre>\n"
      ],
      "text/plain": [
       "\u001b[1m Optimizer params: \u001b[0m\u001b[38;5;34m249,916\u001b[0m (976.24 KB)\n"
      ]
     },
     "metadata": {},
     "output_type": "display_data"
    },
    {
     "name": "stdout",
     "output_type": "stream",
     "text": [
      "None\n"
     ]
    }
   ],
   "source": [
    "# load the saved optimal functional and sequential models to confirm their architecure\n",
    "file_path = \"/Users/rancelhernandez/Downloads/D213_Task2_Files/functional_model_1.keras\"\n",
    "\n",
    "optimal_functional_model = tf.keras.models.load_model(file_path,\n",
    "                                     custom_objects={'inverse_relu': inverse_relu})\n",
    "\n",
    "file_path = \"/Users/rancelhernandez/Downloads/D213_Task2_Files/sequential_model_0.keras\"\n",
    "\n",
    "optimal_sequential_model = tf.keras.models.load_model(file_path)\n",
    "\n",
    "# all current and loaded functional models have the same structure\n",
    "# current functional model\n",
    "print(functional_model.summary())\n",
    "\n",
    "# optimal functional model\n",
    "print(optimal_functional_model.summary())\n",
    "\n",
    "# current sequential model\n",
    "print(sequential_model.summary())\n",
    "\n",
    "# optimal sequential model\n",
    "print(optimal_sequential_model.summary())"
   ]
  },
  {
   "cell_type": "code",
   "execution_count": 34,
   "id": "eecccdc7-ba40-425f-b12b-4d955709d3de",
   "metadata": {},
   "outputs": [
    {
     "name": "stdout",
     "output_type": "stream",
     "text": [
      "\u001b[1m11/11\u001b[0m \u001b[32m━━━━━━━━━━━━━━━━━━━━\u001b[0m\u001b[37m\u001b[0m \u001b[1m2s\u001b[0m 14ms/step - accuracy: 0.7239 - loss: 0.6805 - precision: 0.7149 - recall: 0.7330\n",
      "\u001b[1m50/50\u001b[0m \u001b[32m━━━━━━━━━━━━━━━━━━━━\u001b[0m\u001b[37m\u001b[0m \u001b[1m1s\u001b[0m 12ms/step - accuracy: 0.8437 - loss: 0.5811 - precision: 0.8428 - recall: 0.8460\n",
      "\u001b[1m11/11\u001b[0m \u001b[32m━━━━━━━━━━━━━━━━━━━━\u001b[0m\u001b[37m\u001b[0m \u001b[1m0s\u001b[0m 14ms/step - accuracy: 0.6871 - loss: 0.7142 - precision: 0.6899 - recall: 0.7018\n",
      "\u001b[1m11/11\u001b[0m \u001b[32m━━━━━━━━━━━━━━━━━━━━\u001b[0m\u001b[37m\u001b[0m \u001b[1m2s\u001b[0m 14ms/step - accuracy: 0.6840 - loss: 1.0410 - precision: 0.6980 - recall: 0.6374\n",
      "\u001b[1m50/50\u001b[0m \u001b[32m━━━━━━━━━━━━━━━━━━━━\u001b[0m\u001b[37m\u001b[0m \u001b[1m1s\u001b[0m 13ms/step - accuracy: 0.9624 - loss: 0.3482 - precision: 0.9827 - recall: 0.9414\n",
      "\u001b[1m11/11\u001b[0m \u001b[32m━━━━━━━━━━━━━━━━━━━━\u001b[0m\u001b[37m\u001b[0m \u001b[1m0s\u001b[0m 14ms/step - accuracy: 0.6604 - loss: 1.1828 - precision: 0.6980 - recall: 0.5825\n"
     ]
    }
   ],
   "source": [
    "# NOTE: the '_' is unpacking recall and precision which is no longer considered\n",
    "\n",
    "# Optimal Functional Model 5\n",
    "opf_test_loss, opf_test_acc, _, _ = optimal_functional_model.evaluate(X_test_scaled, y_test)     \n",
    "opf_train_loss, opf_train_acc, _, _ = optimal_functional_model.evaluate(X_train_scaled, y_train)\n",
    "opf_val_loss, opf_val_acc, _, _ = optimal_functional_model.evaluate(X_val_scaled, y_val)\n",
    "\n",
    "# Optimal Sequential Model 4\n",
    "sm_test_loss, sm_test_acc, _, _ = optimal_sequential_model.evaluate(X_test_scaled, y_test)     \n",
    "sm_train_loss, sm_train_acc, _, _ = optimal_sequential_model.evaluate(X_train_scaled, y_train)\n",
    "sm_val_loss, sm_val_acc, _, _ = optimal_sequential_model.evaluate(X_val_scaled, y_val)"
   ]
  },
  {
   "cell_type": "code",
   "execution_count": 35,
   "id": "2ea634d5-85b4-4b47-a356-c267a841ec9d",
   "metadata": {},
   "outputs": [
    {
     "name": "stdout",
     "output_type": "stream",
     "text": [
      "\n",
      "Optimal Functional Model:\n",
      "Train Accuracy: 81.15%\n",
      "Test Accuracy: 70.92%\n",
      "Val. Accuracy: 70.92%\n",
      "Train Loss: 0.6103\n",
      "Test Loss: 0.6851\n",
      "Val. Loss: 0.7001\n",
      "\n",
      "Optimal Sequential Model:\n",
      "Train Accuracy: 89.68%\n",
      "Test Accuracy: 66.47%\n",
      "Val. Accuracy: 67.06%\n",
      "Train Loss: 0.5304\n",
      "Test Loss: 1.0873\n",
      "Val. Loss: 1.1428\n"
     ]
    }
   ],
   "source": [
    "# print the performance metrics/error of all the models\n",
    "print(\"\\nOptimal Functional Model:\")\n",
    "print(f\"Train Accuracy: {opf_train_acc * 100:.2f}%\")\n",
    "print(f\"Test Accuracy: {opf_test_acc * 100:.2f}%\")\n",
    "print(f\"Val. Accuracy: {opf_val_acc * 100:.2f}%\")\n",
    "print(f\"Train Loss: {opf_train_loss:.4f}\")\n",
    "print(f\"Test Loss: {opf_test_loss:.4f}\")\n",
    "print(f\"Val. Loss: {opf_val_loss:.4f}\")\n",
    "\n",
    "print(\"\\nOptimal Sequential Model:\")\n",
    "print(f\"Train Accuracy: {sm_train_acc * 100:.2f}%\")\n",
    "print(f\"Test Accuracy: {sm_test_acc * 100:.2f}%\")\n",
    "print(f\"Val. Accuracy: {sm_val_acc * 100:.2f}%\")\n",
    "print(f\"Train Loss: {sm_train_loss:.4f}\")\n",
    "print(f\"Test Loss: {sm_test_loss:.4f}\")\n",
    "print(f\"Val. Loss: {sm_val_loss:.4f}\")"
   ]
  },
  {
   "cell_type": "markdown",
   "id": "4330a8d5-b2be-4a04-981a-95d14790df63",
   "metadata": {},
   "source": [
    "## Results\n",
    "- The reviews contained no emojis, but did have the following unknown characters: ['ê', 'é', '\\x96', 'å', '\\x97'].\n",
    "- There were 349 unusual characters in the reviews.\n",
    "- There were five outliers, with the longest having a max length of 1,842 words.\n",
    "- There were 5,472 unique words from the reviews.\n",
    "- From the reviews, 35,557 words were found in the SpaCy model's vocabulary, while 1,431 words were not found in the vocabulary.\n",
    "- The chosen max word embedding length was 31 because that was the 95th percentile of the sequence lengths, meaning 95% of the sentences would fall within this threshold.\n",
    "- The word vector values appeared to follow a normal distribution with a mean of approximately 0 and a standard deviation of approximately 0.35.\n",
    "- The final structure of the functional model:\n",
    "    - 1 Input Layer (31 x 300)\n",
    "    - 2 Bidirectional LSTM Layer with 30 units (30 x 2 = 60 nodes total)\n",
    "    - 3 Flatten Layer to convert sequential data to flat features\n",
    "    - 4 Two Distinct Dense Layers, 12 nodes each (Activations: ReLu and Inverse ReLu)\n",
    "    - 5 Dropout applied to each branch\n",
    "    - 6 Two Distinct Dense Layers, 8 nodes each (Activations: Tanh)\n",
    "    - 7 Dropout applied to each branch\n",
    "    - 8 Two Distinct Dense Layers, 8 nodes each (Activations: ReLu and Inverse ReLu)\n",
    "    - 9 Dropout applied to each branch\n",
    "    - 10 Concatenation of both branches\n",
    "    - 11 Shared Dense Layer with 10 nodes (Activation: Tanh)\n",
    "    - 12 Dropout Layer\n",
    "    - 13 Output Layer with 1 node (Activation: Sigmoid)\n",
    "- The final structure of the sequential model:\n",
    "    - 1 Bidirectional LSTM Layer with 30 units (30 x 2 = 60 nodes total)\n",
    "    - 2 Flatten Layer to convert sequential data to flat features\n",
    "    - 3 Dense Layer with 24 nodes (Activations: ReLu)\n",
    "    - 4 Dropout Layer\n",
    "    - 5 Dense Layer with 16 nodes (Activations: Tanh)\n",
    "    - 6 Dropout Layer\n",
    "    - 7 Dense Layer with 16 nodes (Activations: ReLu)\n",
    "    - 8 Dropout Layer\n",
    "    - 9 Dense Layer with 10 nodes (Activations: Tanh)\n",
    "    - 10 Dropout Layer\n",
    "    - 11 Output Layer with 1 node (Activations: Sigmoid)"
   ]
  },
  {
   "cell_type": "markdown",
   "id": "ba7de7b8-d80e-4c67-9133-f1b8ea12805f",
   "metadata": {},
   "source": [
    "## Reccomondations\n",
    "\n",
    "- Reduce training duration from 30 to 15 epochs and decrease early stopping patience from 5 to 2 epochs to minimize overfitting.\n",
    "- Further explore the functional model architecture due to its more reliable and confident predictions.\n",
    "- Test whether both branches learned useful or redundant patterns by adding output nodes at the branch endpoints and investigating if the standard ReLU has higher true positive rates while inverse ReLU has higher true negative rates.\n",
    "- Increase model complexity by adding more nodes, hidden layers, and alternative activation functions.\n",
    "- Consider adding a third branch that incorporates both inverse functions or other activation functions.\n",
    "- Test the model performance across different domains (Amazon, IMDb, Yelp) to identify potential domain-specific accuracy variations.\n",
    "- Test the model on the different domains (Amazon, IMDb, Yelp) to identify if there is any bias.\n",
    "- Obtain more training data to improve the overall performance."
   ]
  },
  {
   "cell_type": "code",
   "execution_count": 36,
   "id": "c386b59b-f1c1-4169-8c42-d54d947071b5",
   "metadata": {},
   "outputs": [],
   "source": [
    "# code to save the models and their history\n",
    "\n",
    "# save the models \n",
    "#sequential_model.save('sequential_model_o.keras')\n",
    "#functional_model.save('functional_model_o.keras')"
   ]
  },
  {
   "cell_type": "code",
   "execution_count": 37,
   "id": "26bec2df-c982-4bba-8121-c2534b0a4995",
   "metadata": {},
   "outputs": [],
   "source": [
    "# save the models' history in json format\n",
    "\n",
    "#output_path = \"/Users/rancelhernandez/Downloads/D213_Task2_Models/history_sequential_1.json\"\n",
    "\n",
    "#history_dict = history_sequential.history\n",
    "\n",
    "#with open(output_path, 'w') as f:\n",
    "    #json.dump(history_dict, f, indent=4)\n",
    "\n",
    "#output_path = \"/Users/rancelhernandez/Downloads/D213_Task2_Models/model_history_1.json\"\n",
    "\n",
    "#history_dict = history_functional.history\n",
    "\n",
    "#with open(output_path, 'w') as f:\n",
    "    #json.dump(history_dict, f, indent=4)"
   ]
  },
  {
   "cell_type": "code",
   "execution_count": 38,
   "id": "a9716413-846f-41b3-a0a1-1d6ac7303d45",
   "metadata": {},
   "outputs": [],
   "source": [
    "# save the prepared data\n",
    "\n",
    "# save the arrays in compressed format\n",
    "#np.savez_compressed('prepared_dataset.npz', \n",
    "#                    X_train=X_train_scaled,\n",
    "#                    X_val=X_val_scaled, \n",
    "#                    X_test=X_test_scaled,\n",
    "#                    y_train=y_train, \n",
    "#                    y_val=y_val, \n",
    "#                    y_test=y_test)"
   ]
  },
  {
   "cell_type": "code",
   "execution_count": null,
   "id": "da602465-1b1e-466d-8041-93fd84c1a5c9",
   "metadata": {},
   "outputs": [],
   "source": []
  }
 ],
 "metadata": {
  "kernelspec": {
   "display_name": "Python 3 (ipykernel)",
   "language": "python",
   "name": "python3"
  },
  "language_info": {
   "codemirror_mode": {
    "name": "ipython",
    "version": 3
   },
   "file_extension": ".py",
   "mimetype": "text/x-python",
   "name": "python",
   "nbconvert_exporter": "python",
   "pygments_lexer": "ipython3",
   "version": "3.11.7"
  }
 },
 "nbformat": 4,
 "nbformat_minor": 5
}
